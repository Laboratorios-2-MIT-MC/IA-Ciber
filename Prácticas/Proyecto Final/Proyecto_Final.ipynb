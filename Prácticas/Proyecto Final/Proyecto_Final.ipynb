{
  "cells": [
    {
      "cell_type": "markdown",
      "id": "6SPLwA4uN8oP",
      "metadata": {
        "id": "6SPLwA4uN8oP"
      },
      "source": [
        "# Carga de librerías"
      ]
    },
    {
      "cell_type": "code",
      "execution_count": null,
      "id": "731a1aa0-a5ac-4398-a5a0-834a71fd0e17",
      "metadata": {
        "colab": {
          "base_uri": "https://localhost:8080/"
        },
        "id": "731a1aa0-a5ac-4398-a5a0-834a71fd0e17",
        "outputId": "88873646-e4f1-4063-a232-b2210002656f"
      },
      "outputs": [],
      "source": []
    },
    {
      "cell_type": "markdown",
      "id": "hESY4dJdOanL",
      "metadata": {
        "id": "hESY4dJdOanL"
      },
      "source": [
        "# Carga dataset"
      ]
    },
    {
      "cell_type": "code",
      "execution_count": 1,
      "id": "b33f2378-9189-424f-9bc7-5d4bcfdb8358",
      "metadata": {
        "colab": {
          "base_uri": "https://localhost:8080/"
        },
        "id": "b33f2378-9189-424f-9bc7-5d4bcfdb8358",
        "outputId": "9e12d046-fd8f-46d0-cd5e-f529a40ce605"
      },
      "outputs": [
        {
          "name": "stderr",
          "output_type": "stream",
          "text": [
            "\"wget\" no se reconoce como un comando interno o externo,\n",
            "programa o archivo por lotes ejecutable.\n"
          ]
        },
        {
          "name": "stderr",
          "output_type": "stream",
          "text": [
            "\"wget\" no se reconoce como un comando interno o externo,\n",
            "programa o archivo por lotes ejecutable.\n",
            "\"unzip\" no se reconoce como un comando interno o externo,\n",
            "programa o archivo por lotes ejecutable.\n"
          ]
        }
      ],
      "source": [
        "# Download data from repository and unzip\n",
        "!wget https://github.com/Laboratorios-2-MIT-MC/IA-Ciber/raw/main/Pr%C3%A1cticas/Proyecto%20Final/Dataset/trafic_data.zip.001 -O trafic_data.zip.001\n",
        "!wget https://github.com/Laboratorios-2-MIT-MC/IA-Ciber/raw/main/Pr%C3%A1cticas/Proyecto%20Final/Dataset/trafic_data.zip.002 -O trafic_data.zip.002\n",
        "!unzip -o trafic_data.zip.001"
      ]
    },
    {
      "cell_type": "markdown",
      "id": "87b20e26",
      "metadata": {},
      "source": [
        "# Carga del modelo"
      ]
    },
    {
      "cell_type": "code",
      "execution_count": null,
      "id": "1e12c503",
      "metadata": {},
      "outputs": [],
      "source": [
        "# Download the model and unzip\n",
        "!wget https://github.com/Laboratorios-2-MIT-MC/IA-Ciber/raw/main/Pr%C3%A1cticas/Proyecto%20Final/Modelo/yolov8x.zip.001 -O yolov8x.zip.001\n",
        "!wget https://github.com/Laboratorios-2-MIT-MC/IA-Ciber/raw/main/Pr%C3%A1cticas/Proyecto%20Final/Modelo/yolov8x.zip.002 -O yolov8x.zip.002\n",
        "!unzip -o yolov8x.zip.001"
      ]
    }
  ],
  "metadata": {
    "accelerator": "GPU",
    "colab": {
      "gpuType": "T4",
      "provenance": []
    },
    "kernelspec": {
      "display_name": "Python 3",
      "name": "python3"
    },
    "language_info": {
      "codemirror_mode": {
        "name": "ipython",
        "version": 3
      },
      "file_extension": ".py",
      "mimetype": "text/x-python",
      "name": "python",
      "nbconvert_exporter": "python",
      "pygments_lexer": "ipython3",
      "version": "3.8.10"
    }
  },
  "nbformat": 4,
  "nbformat_minor": 5
}
