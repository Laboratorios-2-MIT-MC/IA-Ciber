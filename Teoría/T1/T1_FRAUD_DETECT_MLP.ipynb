{
  "cells": [
    {
      "cell_type": "code",
      "execution_count": 75,
      "id": "731a1aa0-a5ac-4398-a5a0-834a71fd0e17",
      "metadata": {
        "colab": {
          "base_uri": "https://localhost:8080/"
        },
        "id": "731a1aa0-a5ac-4398-a5a0-834a71fd0e17",
        "outputId": "728fe038-2375-402c-b628-42054be6e299"
      },
      "outputs": [
        {
          "output_type": "stream",
          "name": "stdout",
          "text": [
            "2.1.0+cu121\n"
          ]
        }
      ],
      "source": [
        "# SETUP & IMPORTS\n",
        "\n",
        "import os\n",
        "import torch\n",
        "import pandas as pd\n",
        "import matplotlib.pyplot as plt\n",
        "import numpy as np\n",
        "\n",
        "from torch.utils.data import Dataset, DataLoader\n",
        "from torch.utils.data.sampler import SubsetRandomSampler\n",
        "\n",
        "import torch.nn as nn\n",
        "import torch.nn.functional as F\n",
        "import torch.optim as optim\n",
        "from torch.optim import lr_scheduler\n",
        "\n",
        "print(torch.__version__)\n"
      ]
    },
    {
      "cell_type": "code",
      "source": [
        "# Download data from repository\n",
        "!wget https://raw.githubusercontent.com/Laboratorios-2-MIT-MC/IA-Ciber/main/Teor%C3%ADa/T1/fraud80000_v5.csv -O fraud80000_v5.csv"
      ],
      "metadata": {
        "colab": {
          "base_uri": "https://localhost:8080/"
        },
        "id": "QnEpn2ru4cjv",
        "outputId": "a7d04e71-415f-4743-98ba-11f0545f18b6"
      },
      "id": "QnEpn2ru4cjv",
      "execution_count": 76,
      "outputs": [
        {
          "output_type": "stream",
          "name": "stdout",
          "text": [
            "--2024-02-06 20:14:15--  https://raw.githubusercontent.com/Laboratorios-2-MIT-MC/IA-Ciber/main/Teor%C3%ADa/T1/fraud80000_v5.csv\n",
            "Resolving raw.githubusercontent.com (raw.githubusercontent.com)... 185.199.111.133, 185.199.108.133, 185.199.109.133, ...\n",
            "Connecting to raw.githubusercontent.com (raw.githubusercontent.com)|185.199.111.133|:443... connected.\n",
            "HTTP request sent, awaiting response... 200 OK\n",
            "Length: 6346592 (6.1M) [text/plain]\n",
            "Saving to: ‘fraud80000_v5.csv’\n",
            "\n",
            "\rfraud80000_v5.csv     0%[                    ]       0  --.-KB/s               \rfraud80000_v5.csv   100%[===================>]   6.05M  --.-KB/s    in 0.05s   \n",
            "\n",
            "2024-02-06 20:14:15 (114 MB/s) - ‘fraud80000_v5.csv’ saved [6346592/6346592]\n",
            "\n"
          ]
        }
      ]
    },
    {
      "cell_type": "code",
      "execution_count": 77,
      "id": "b33f2378-9189-424f-9bc7-5d4bcfdb8358",
      "metadata": {
        "colab": {
          "base_uri": "https://localhost:8080/"
        },
        "id": "b33f2378-9189-424f-9bc7-5d4bcfdb8358",
        "outputId": "4bb5afa7-71dd-43bf-bd99-45e74f4b0d94"
      },
      "outputs": [
        {
          "output_type": "stream",
          "name": "stdout",
          "text": [
            "0    79849\n",
            "1      151\n",
            "Name: isFraud, dtype: int64\n"
          ]
        }
      ],
      "source": [
        "# DEFINE & CREATE DATASET\n",
        "\n",
        "class CreditcardDataset(Dataset):\n",
        "\n",
        "    def __init__(self, csv_file, transform=None):\n",
        "\n",
        "        self.df = pd.read_csv(csv_file, sep=\",\")\n",
        "\n",
        "        y = self.df.iloc[:]['isFraud'].values\n",
        "        x = self.df.drop('isFraud', axis=1).values\n",
        "\n",
        "        self.X = torch.tensor(x, dtype=torch.float32)\n",
        "        self.Y = torch.tensor(y)\n",
        "\n",
        "        self.transform = transform\n",
        "\n",
        "        print(self.df.iloc[:]['isFraud'].value_counts())\n",
        "\n",
        "    def __len__(self):\n",
        "        return len(self.Y)\n",
        "\n",
        "    def __getitem__(self, idx):\n",
        "        return self.X[idx], self.Y[idx]\n",
        "\n",
        "CC_dataset = CreditcardDataset(csv_file='/content/fraud80000_v5.csv')\n"
      ]
    },
    {
      "cell_type": "code",
      "execution_count": 78,
      "id": "8400b997-9cee-4cce-a659-f7489092ac02",
      "metadata": {
        "colab": {
          "base_uri": "https://localhost:8080/"
        },
        "id": "8400b997-9cee-4cce-a659-f7489092ac02",
        "outputId": "ce4c5d3e-51ef-4a45-a4b0-5c23f8c574d8"
      },
      "outputs": [
        {
          "output_type": "stream",
          "name": "stdout",
          "text": [
            "# total samples: 80000\n",
            "# total TRAIN samples: 64000\n",
            "# total VAL samples: 8000\n",
            "# total TEST samples: 8000\n"
          ]
        }
      ],
      "source": [
        "# PREPARE DATASETS\n",
        "# Dataset NO balanceado\n",
        "\n",
        "batch_size = 512\n",
        "train_split = 0.8 # 80%\n",
        "val_split = 0.5 # 50% del resto\n",
        "\n",
        "train_size = int(train_split * len(CC_dataset))\n",
        "val_size = int(val_split * (len(CC_dataset) - train_size))\n",
        "test_size = len(CC_dataset) - train_size - val_size\n",
        "\n",
        "train_dataset, val_dataset, test_dataset = torch.utils.data.random_split(CC_dataset, [train_size, val_size, test_size])\n",
        "\n",
        "train_loader = DataLoader(train_dataset, batch_size=batch_size,\n",
        "                            shuffle=True,\n",
        "                            num_workers=0,\n",
        "                            #sampler=train_sampler\n",
        "                            )\n",
        "val_loader = DataLoader(val_dataset, batch_size=batch_size,\n",
        "                            shuffle=True,\n",
        "                            num_workers=0,\n",
        "                            #sampler=val_sampler\n",
        "                            )\n",
        "test_loader = DataLoader(test_dataset, batch_size=batch_size,\n",
        "                            shuffle=True,\n",
        "                            num_workers=0,\n",
        "                            #sampler=test_sampler\n",
        "                            )\n",
        "\n",
        "print (\"# total samples:\", len(CC_dataset))\n",
        "print (\"# total TRAIN samples:\", len(train_loader.sampler))\n",
        "print (\"# total VAL samples:\", len(val_loader.sampler))\n",
        "print (\"# total TEST samples:\", len(test_loader.sampler))"
      ]
    },
    {
      "cell_type": "code",
      "execution_count": 79,
      "id": "9306818c-54da-41e8-9dcc-1082a6adb09b",
      "metadata": {
        "colab": {
          "base_uri": "https://localhost:8080/"
        },
        "id": "9306818c-54da-41e8-9dcc-1082a6adb09b",
        "outputId": "ed53d599-5b5c-4be0-d976-2e7ab5d64f72"
      },
      "outputs": [
        {
          "output_type": "stream",
          "name": "stdout",
          "text": [
            "TRAIN NO_FRAUD:  63880\n",
            "TRAIN FRAUD:     120\n",
            "VAL NO_FRAUD:  7986\n",
            "VAL FRAUD:     14\n",
            "TEST NO_FRAUD:  7983\n",
            "TEST FRAUD:     17\n",
            "# total samples: 80000\n",
            "# total TRAIN samples: 64000\n",
            "# total VAL samples: 8000\n",
            "# total TEST samples: 8000\n"
          ]
        }
      ],
      "source": [
        "# PREPARE DATASETS\n",
        "# Dataset balanceado\n",
        "\n",
        "from torch.utils.data import TensorDataset, DataLoader, WeightedRandomSampler\n",
        "from tqdm import tqdm\n",
        "\n",
        "batch_size = 512\n",
        "train_split = 0.8 # 80%\n",
        "val_split = 0.5 # 50% del resto\n",
        "\n",
        "train_size = int(train_split * len(CC_dataset))\n",
        "val_size = int(val_split * (len(CC_dataset) - train_size))\n",
        "test_size = len(CC_dataset) - train_size - val_size\n",
        "\n",
        "train_dataset, val_dataset, test_dataset = torch.utils.data.random_split(CC_dataset, [train_size, val_size, test_size])\n",
        "\n",
        "# WeightedRandomSampler for TRAIN\n",
        "class_0 = 0\n",
        "class_1 = 0\n",
        "train_labels = []\n",
        "for i in range(len(train_dataset)):\n",
        "    _, Y = train_dataset[i]\n",
        "\n",
        "    if Y==0:\n",
        "        class_0+=1\n",
        "    else:\n",
        "        class_1+=1\n",
        "\n",
        "    train_labels.append(Y)\n",
        "\n",
        "print ('TRAIN NO_FRAUD: ', class_0)\n",
        "print ('TRAIN FRAUD:    ', class_1)\n",
        "\n",
        "class_counts = [class_0, class_1]\n",
        "num_samples = sum(class_counts)\n",
        "labels = train_labels #train_dataset.Y #corresponding labels of samples\n",
        "class_weights = [num_samples/class_counts[i] for i in range(len(class_counts))]\n",
        "weights = [class_weights[labels[i]] for i in range(int(num_samples))]\n",
        "train_sampler = WeightedRandomSampler(torch.DoubleTensor(weights), int(num_samples))\n",
        "\n",
        "# WeightedRandomSampler for VAL\n",
        "class_0 = 0\n",
        "class_1 = 0\n",
        "val_labels = []\n",
        "for i in range(len(val_dataset)):\n",
        "    _, Y = val_dataset[i]\n",
        "\n",
        "    if Y==0:\n",
        "        class_0+=1\n",
        "    else:\n",
        "        class_1+=1\n",
        "\n",
        "    val_labels.append(Y)\n",
        "\n",
        "print ('VAL NO_FRAUD: ', class_0)\n",
        "print ('VAL FRAUD:    ', class_1)\n",
        "\n",
        "class_counts = [class_0, class_1]\n",
        "num_samples = sum(class_counts)\n",
        "labels = val_labels\n",
        "class_weights = [num_samples/class_counts[i] for i in range(len(class_counts))]\n",
        "weights = [class_weights[labels[i]] for i in range(int(num_samples))]\n",
        "val_sampler = WeightedRandomSampler(torch.DoubleTensor(weights), int(num_samples))\n",
        "\n",
        "# WeightedRandomSampler for TEST\n",
        "class_0 = 0\n",
        "class_1 = 0\n",
        "test_labels = []\n",
        "for i in range(len(test_dataset)):\n",
        "    _, Y = test_dataset[i]\n",
        "\n",
        "    if Y==0:\n",
        "        class_0+=1\n",
        "    else:\n",
        "        class_1+=1\n",
        "\n",
        "    test_labels.append(Y)\n",
        "\n",
        "print ('TEST NO_FRAUD: ', class_0)\n",
        "print ('TEST FRAUD:    ', class_1)\n",
        "\n",
        "class_counts = [class_0, class_1]\n",
        "num_samples = sum(class_counts)\n",
        "labels = test_labels #train_dataset.Y #corresponding labels of samples\n",
        "class_weights = [num_samples/class_counts[i] for i in range(len(class_counts))]\n",
        "weights = [class_weights[labels[i]] for i in range(int(num_samples))]\n",
        "test_sampler = WeightedRandomSampler(torch.DoubleTensor(weights), int(num_samples))\n",
        "\n",
        "\n",
        "train_loader = DataLoader(train_dataset, batch_size=batch_size,\n",
        "                            #shuffle=True,\n",
        "                            num_workers=0,\n",
        "                            sampler=train_sampler\n",
        "                            )\n",
        "val_loader = DataLoader(val_dataset, batch_size=batch_size,\n",
        "                            #shuffle=True,\n",
        "                            num_workers=0,\n",
        "                            sampler=val_sampler\n",
        "                            )\n",
        "test_loader = DataLoader(test_dataset, batch_size=batch_size,\n",
        "                            #shuffle=True,\n",
        "                            num_workers=0,\n",
        "                            sampler=test_sampler\n",
        "                            )\n",
        "\n",
        "print (\"# total samples:\", len(CC_dataset))\n",
        "print (\"# total TRAIN samples:\", len(train_loader.sampler))\n",
        "print (\"# total VAL samples:\", len(val_loader.sampler))\n",
        "print (\"# total TEST samples:\", len(test_loader.sampler))"
      ]
    },
    {
      "cell_type": "code",
      "execution_count": 80,
      "id": "ecd2813b-1e3b-49b1-bf9d-93103b0cd843",
      "metadata": {
        "colab": {
          "base_uri": "https://localhost:8080/",
          "height": 52
        },
        "id": "ecd2813b-1e3b-49b1-bf9d-93103b0cd843",
        "outputId": "3d766704-c19c-44f5-84ed-e76cfdb26e13"
      },
      "outputs": [
        {
          "output_type": "stream",
          "name": "stdout",
          "text": [
            "cuda:0\n"
          ]
        },
        {
          "output_type": "execute_result",
          "data": {
            "text/plain": [
              "'Tesla T4'"
            ],
            "application/vnd.google.colaboratory.intrinsic+json": {
              "type": "string"
            }
          },
          "metadata": {},
          "execution_count": 80
        }
      ],
      "source": [
        "# ACTIVATE DEVICE\n",
        "\n",
        "device = torch.device(\"cuda:0\" if torch.cuda.is_available() else \"cpu\")\n",
        "print(device)\n",
        "torch.cuda.get_device_name(0)\n"
      ]
    },
    {
      "cell_type": "code",
      "execution_count": 81,
      "id": "274dd20d-48ab-41da-918c-0020a6a47832",
      "metadata": {
        "colab": {
          "base_uri": "https://localhost:8080/"
        },
        "id": "274dd20d-48ab-41da-918c-0020a6a47832",
        "outputId": "ee5a37fa-14a8-42f8-e574-b12fa41bbfa8"
      },
      "outputs": [
        {
          "output_type": "stream",
          "name": "stdout",
          "text": [
            "FraudNet(\n",
            "  (l1): Linear(in_features=5, out_features=32, bias=True)\n",
            "  (l2): Linear(in_features=32, out_features=2, bias=True)\n",
            "  (relu): ReLU()\n",
            "  (dropout): Dropout(p=0.8, inplace=False)\n",
            ")\n"
          ]
        }
      ],
      "source": [
        "# DEFINE NEURAL NETWORK MODEL\n",
        "\n",
        "class FraudNet(nn.Module):\n",
        "    def __init__(self):\n",
        "      ## CAPAS DEL MODELO, LO IMPORTANTE ES DEFINIR TODAS LAS CAPAS SE VAN A USAR EN NUESTRO MODELO ##\n",
        "        super(FraudNet, self).__init__()\n",
        "        self.l1 = nn.Linear(5, 32) ## Red que coje 5 variables y va a una capa de 32 neuronas ##\n",
        "        ## Es una buena práctica expandir la información, no mantener ni reducir ##\n",
        "        self.l2 = nn.Linear(32, 2) ## Red que coje 32 variables y va a una capa de 2 neruonas, porque queremos dos salidas (fraude o no fraude) ##\n",
        "        self.relu = nn.ReLU() ## Es una función de activación pero no se entrena ##\n",
        "        ## Todos los datos negativos los pone a cero y a los positivos le aplica una relación lineal ##\n",
        "\n",
        "        # Define proportion or neurons to dropout\n",
        "        ## Coje el vector de entrada, aplica una probabilidad del 0.8 para conservar las conexiones entre capas, ##\n",
        "        ## basicamente elimina el peso de la conexión ##\n",
        "        self.dropout = nn.Dropout(0.8) ## Se necesita si tenemos sobreentrenamiento ##\n",
        "\n",
        "    def forward(self, x):\n",
        "        x = self.l1(x)\n",
        "        x = self.relu(x)\n",
        "        x = self.dropout(x)\n",
        "        out = self.l2(x)\n",
        "\n",
        "        return out\n",
        "\n",
        "model = FraudNet()\n",
        "model.to(device)\n",
        "\n",
        "print (model)"
      ]
    },
    {
      "cell_type": "code",
      "execution_count": 82,
      "id": "42be73e8-762e-4d90-a746-b52e9bb2163d",
      "metadata": {
        "id": "42be73e8-762e-4d90-a746-b52e9bb2163d"
      },
      "outputs": [],
      "source": [
        "# DEFINE LOSS FUNCTION AND OPTIMIZATION METHOD\n",
        "\n",
        "criterion = nn.CrossEntropyLoss()\n",
        "optimizer = torch.optim.Adam(model.parameters(), lr=0.001)"
      ]
    },
    {
      "cell_type": "code",
      "execution_count": 83,
      "id": "2233e97b-ddf5-48d3-85a9-9c669089886b",
      "metadata": {
        "id": "2233e97b-ddf5-48d3-85a9-9c669089886b"
      },
      "outputs": [],
      "source": [
        "# DEFINE TRAIN & EVAL FUNCTIONS\n",
        "\n",
        "def train_model(model, train_loader, criterion, optimizer, epoch):\n",
        "\n",
        "    model.train()\n",
        "\n",
        "    total_epoch_loss = 0\n",
        "    total_epoch_acc = 0\n",
        "\n",
        "    for i, (X, Y) in enumerate(train_loader):\n",
        "\n",
        "        X, Y = X.to(device), Y.to(device)\n",
        "\n",
        "        # Forward pass\n",
        "        outputs = model(X)\n",
        "        loss = criterion(outputs, Y)\n",
        "\n",
        "        # Backward and optimize\n",
        "        optimizer.zero_grad()\n",
        "        loss.backward()\n",
        "        optimizer.step()\n",
        "\n",
        "        num_corrects = (torch.max(outputs, 1)[1].view(Y.size()).data == Y.data).float().sum()\n",
        "        acc = 100.0 * num_corrects/len(Y)\n",
        "\n",
        "        if (i+1) % 1000 == 0:\n",
        "          print (f'Epoch: {epoch+1}, Idx: ({i+1}/{len(train_loader)}), Training Loss: {loss.item():.4f}, Training Accuracy: {acc.item(): .2f}%')\n",
        "\n",
        "        total_epoch_loss += loss.item()\n",
        "        total_epoch_acc += acc.item()\n",
        "\n",
        "    return total_epoch_loss/len(train_loader), total_epoch_acc/len(train_loader)\n",
        "\n",
        "\n",
        "def eval_model(model, val_loader, criterion):\n",
        "\n",
        "  model.eval()\n",
        "\n",
        "  total_epoch_loss = 0\n",
        "  total_epoch_acc = 0\n",
        "\n",
        "  with torch.no_grad():\n",
        "\n",
        "    for i, (X, Y) in enumerate(val_loader):\n",
        "\n",
        "        X, Y = X.to(device), Y.to(device)\n",
        "\n",
        "        # Forward pass\n",
        "        outputs = model(X)\n",
        "        loss = criterion(outputs, Y)\n",
        "\n",
        "        num_corrects = (torch.max(outputs, 1)[1].view(Y.size()).data == Y.data).float().sum()\n",
        "        acc = 100.0 * num_corrects/len(Y)\n",
        "\n",
        "        total_epoch_loss += loss.item()\n",
        "        total_epoch_acc += acc.item()\n",
        "\n",
        "    return total_epoch_loss/len(val_loader), total_epoch_acc/len(val_loader)\n"
      ]
    },
    {
      "cell_type": "code",
      "execution_count": 84,
      "id": "9fc99b0a-77b6-4210-abab-d76ba93e3dee",
      "metadata": {
        "colab": {
          "base_uri": "https://localhost:8080/",
          "height": 1000
        },
        "id": "9fc99b0a-77b6-4210-abab-d76ba93e3dee",
        "outputId": "1439709c-43bc-4a27-ccf4-08a570471d4b"
      },
      "outputs": [
        {
          "output_type": "stream",
          "name": "stdout",
          "text": [
            "Epoch: [01/10], Train Loss: 3.674, Train Acc: 62.24%, Val. Loss: 0.566815, Val. Acc: 83.17%\n",
            "Epoch: [02/10], Train Loss: 0.493, Train Acc: 76.28%, Val. Loss: 0.291668, Val. Acc: 93.98%\n",
            "Epoch: [03/10], Train Loss: 0.430, Train Acc: 79.01%, Val. Loss: 0.287252, Val. Acc: 93.98%\n",
            "Epoch: [04/10], Train Loss: 0.386, Train Acc: 80.85%, Val. Loss: 0.277953, Val. Acc: 93.35%\n",
            "Epoch: [05/10], Train Loss: 0.379, Train Acc: 82.17%, Val. Loss: 0.300663, Val. Acc: 92.91%\n",
            "Epoch: [06/10], Train Loss: 0.350, Train Acc: 83.25%, Val. Loss: 0.319446, Val. Acc: 92.21%\n",
            "Epoch: [07/10], Train Loss: 0.340, Train Acc: 83.91%, Val. Loss: 0.319975, Val. Acc: 93.18%\n",
            "Epoch: [08/10], Train Loss: 0.322, Train Acc: 84.19%, Val. Loss: 0.342053, Val. Acc: 92.54%\n",
            "Epoch: [09/10], Train Loss: 0.336, Train Acc: 84.23%, Val. Loss: 0.356704, Val. Acc: 89.60%\n",
            "Epoch: [10/10], Train Loss: 0.320, Train Acc: 84.69%, Val. Loss: 0.390499, Val. Acc: 90.52%\n"
          ]
        },
        {
          "output_type": "display_data",
          "data": {
            "text/plain": [
              "<Figure size 1000x500 with 1 Axes>"
            ],
            "image/png": "[encoded data removed]"
          },
          "metadata": {}
        },
        {
          "output_type": "display_data",
          "data": {
            "text/plain": [
              "<Figure size 1000x500 with 1 Axes>"
            ],
            "image/png": "[encoded data removed]"
          },
          "metadata": {}
        }
      ],
      "source": [
        "# TRAINING LOOP\n",
        "\n",
        "epochs = 10\n",
        "\n",
        "train_loss_epochs = []\n",
        "val_loss_epochs = []\n",
        "train_acc_epochs = []\n",
        "val_acc_epochs = []\n",
        "\n",
        "for epoch in range(epochs):\n",
        "    train_loss, train_acc = train_model(model, train_loader, criterion, optimizer, epoch)\n",
        "    val_loss, val_acc = eval_model(model, val_loader, criterion)\n",
        "\n",
        "    print(f'Epoch: [{epoch+1:02}/{epochs}], Train Loss: {train_loss:.3f}, Train Acc: {train_acc:.2f}%, Val. Loss: {val_loss:3f}, Val. Acc: {val_acc:.2f}%')\n",
        "    train_loss_epochs.append(train_loss)\n",
        "    val_loss_epochs.append(val_loss)\n",
        "    train_acc_epochs.append(train_acc)\n",
        "    val_acc_epochs.append(val_acc)\n",
        "\n",
        "\n",
        "plt.figure(figsize=(10,5))\n",
        "plt.title(\"Loss during Training\")\n",
        "plt.plot(train_loss_epochs,label=\"Training loss\")\n",
        "plt.plot(val_loss_epochs,label=\"Validation loss\")\n",
        "plt.xlabel(\"Epoch\")\n",
        "plt.ylabel(\"Loss\")\n",
        "plt.legend()\n",
        "plt.show()\n",
        "\n",
        "plt.figure(figsize=(10,5))\n",
        "plt.title(\"Acc during Training\")\n",
        "plt.plot(train_acc_epochs,label=\"Training Acc\")\n",
        "plt.plot(val_acc_epochs,label=\"Validation Acc\")\n",
        "plt.xlabel(\"Epoch\")\n",
        "plt.ylabel(\"Acc\")\n",
        "plt.legend()\n",
        "plt.show()"
      ]
    },
    {
      "cell_type": "code",
      "execution_count": 85,
      "id": "3dcc272a-434c-4169-b5fd-a12a93b93407",
      "metadata": {
        "colab": {
          "base_uri": "https://localhost:8080/"
        },
        "id": "3dcc272a-434c-4169-b5fd-a12a93b93407",
        "outputId": "a35f8a22-d415-4f33-a5b2-ac9b797839d6"
      },
      "outputs": [
        {
          "output_type": "stream",
          "name": "stdout",
          "text": [
            "Accuracy of the network on test: 91.0625 %\n"
          ]
        }
      ],
      "source": [
        "# TEST THE MODEL\n",
        "\n",
        "with torch.no_grad():\n",
        "    n_correct = 0\n",
        "    n_samples = 0\n",
        "    for X, Y in test_loader:\n",
        "\n",
        "        X, Y = X.to(device), Y.to(device)\n",
        "\n",
        "        outputs = model(X)\n",
        "\n",
        "        _, predicted = torch.max(outputs.data, 1)\n",
        "        n_samples += Y.size(0)\n",
        "        n_correct += (predicted == Y).sum().item()\n",
        "\n",
        "    acc = 100.0 * n_correct / n_samples\n",
        "    print(f'Accuracy of the network on test: {acc} %')"
      ]
    },
    {
      "cell_type": "code",
      "execution_count": 86,
      "id": "c488a279-85fb-4e73-b11e-bb6cdb49ca69",
      "metadata": {
        "colab": {
          "base_uri": "https://localhost:8080/",
          "height": 615
        },
        "id": "c488a279-85fb-4e73-b11e-bb6cdb49ca69",
        "outputId": "5fba91d4-96fe-4262-9eb5-63a6ec78ed41"
      },
      "outputs": [
        {
          "output_type": "stream",
          "name": "stdout",
          "text": [
            "Accuracy of the network on test: 91.5625 %\n"
          ]
        },
        {
          "output_type": "stream",
          "name": "stderr",
          "text": [
            "<ipython-input-86-5cd6684d54c4>:43: UserWarning: FixedFormatter should only be used together with FixedLocator\n",
            "  ax.set_xticklabels([''] + listclasses, rotation=90)\n",
            "<ipython-input-86-5cd6684d54c4>:44: UserWarning: FixedFormatter should only be used together with FixedLocator\n",
            "  ax.set_yticklabels([''] + listclasses)\n"
          ]
        },
        {
          "output_type": "display_data",
          "data": {
            "text/plain": [
              "<Figure size 640x480 with 2 Axes>"
            ],
            "image/png": "[encoded data removed]"
          },
          "metadata": {}
        },
        {
          "output_type": "stream",
          "name": "stdout",
          "text": [
            "tensor([[0.9468, 0.0532],\n",
            "        [0.1141, 0.8859]])\n"
          ]
        }
      ],
      "source": [
        "# CONFUSION MATRIX\n",
        "\n",
        "import matplotlib.pyplot as plt\n",
        "import matplotlib.ticker as ticker\n",
        "\n",
        "listclasses = ['NO FRAUD', 'FRAUD']\n",
        "numclasses = 2\n",
        "\n",
        "confusion = torch.zeros(numclasses, numclasses)\n",
        "\n",
        "with torch.no_grad():\n",
        "    n_correct = 0\n",
        "    n_samples = 0\n",
        "    for X, Y in test_loader:\n",
        "\n",
        "        X, Y = X.to(device), Y.to(device)\n",
        "\n",
        "        outputs = model(X)\n",
        "\n",
        "        _, predicted = torch.max(outputs.data, 1)\n",
        "        n_samples += Y.size(0)\n",
        "        n_correct += (predicted == Y).sum().item()\n",
        "\n",
        "        for i in range(len(Y)):\n",
        "          label_i = Y[i]\n",
        "          predicted_i = predicted[i].item()\n",
        "          confusion[label_i][predicted_i] += 1\n",
        "\n",
        "    acc = 100.0 * n_correct / n_samples\n",
        "    print(f'Accuracy of the network on test: {acc} %')\n",
        "\n",
        "# Normalize by dividing every row by its sum\n",
        "for i in range(numclasses):\n",
        "    confusion[i] = confusion[i] / confusion[i].sum()\n",
        "\n",
        "# Set up plot\n",
        "fig = plt.figure()\n",
        "ax = fig.add_subplot(111)\n",
        "cax = ax.matshow(confusion.numpy())\n",
        "fig.colorbar(cax)\n",
        "\n",
        "# Set up axes\n",
        "ax.set_xticklabels([''] + listclasses, rotation=90)\n",
        "ax.set_yticklabels([''] + listclasses)\n",
        "\n",
        "# Force label at every tick\n",
        "ax.xaxis.set_major_locator(ticker.MultipleLocator(1))\n",
        "ax.yaxis.set_major_locator(ticker.MultipleLocator(1))\n",
        "\n",
        "# sphinx_gallery_thumbnail_number = 2\n",
        "plt.show()\n",
        "print (confusion)"
      ]
    }
  ],
  "metadata": {
    "accelerator": "GPU",
    "colab": {
      "provenance": [],
      "gpuType": "T4"
    },
    "kernelspec": {
      "display_name": "Python 3",
      "name": "python3"
    },
    "language_info": {
      "codemirror_mode": {
        "name": "ipython",
        "version": 3
      },
      "file_extension": ".py",
      "mimetype": "text/x-python",
      "name": "python",
      "nbconvert_exporter": "python",
      "pygments_lexer": "ipython3",
      "version": "3.10.12"
    }
  },
  "nbformat": 4,
  "nbformat_minor": 5
}