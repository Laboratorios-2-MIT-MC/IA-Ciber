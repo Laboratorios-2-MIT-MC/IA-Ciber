{
  "cells": [
    {
      "cell_type": "code",
      "execution_count": 1,
      "id": "731a1aa0-a5ac-4398-a5a0-834a71fd0e17",
      "metadata": {
        "colab": {
          "base_uri": "https://localhost:8080/"
        },
        "id": "731a1aa0-a5ac-4398-a5a0-834a71fd0e17",
        "outputId": "89ae947f-5c38-4b79-bd88-966bf8369846"
      },
      "outputs": [
        {
          "output_type": "stream",
          "name": "stdout",
          "text": [
            "1.13.1+cu116\n"
          ]
        }
      ],
      "source": [
        "# SETUP & IMPORTS\n",
        "\n",
        "import os\n",
        "import torch\n",
        "import pandas as pd\n",
        "import matplotlib.pyplot as plt\n",
        "import numpy as np\n",
        "import time\n",
        "\n",
        "from torch.utils.data import Dataset, DataLoader\n",
        "from torch.utils.data.sampler import SubsetRandomSampler\n",
        "\n",
        "import torch.nn as nn\n",
        "import torch.nn.functional as F\n",
        "import torch.optim as optim\n",
        "from torch.optim import lr_scheduler\n",
        "\n",
        "print(torch.__version__)\n"
      ]
    },
    {
      "cell_type": "code",
      "source": [
        "from google.colab import drive\n",
        "drive.mount('/content/drive')"
      ],
      "metadata": {
        "colab": {
          "base_uri": "https://localhost:8080/"
        },
        "id": "5_4atMbN0TNk",
        "outputId": "4d467d6f-f6c0-4af4-df17-75e20a3cbc24"
      },
      "id": "5_4atMbN0TNk",
      "execution_count": 2,
      "outputs": [
        {
          "output_type": "stream",
          "name": "stdout",
          "text": [
            "Mounted at /content/drive\n"
          ]
        }
      ]
    },
    {
      "cell_type": "code",
      "execution_count": 3,
      "id": "b33f2378-9189-424f-9bc7-5d4bcfdb8358",
      "metadata": {
        "colab": {
          "base_uri": "https://localhost:8080/",
          "height": 140
        },
        "id": "b33f2378-9189-424f-9bc7-5d4bcfdb8358",
        "outputId": "57d1cf3d-f329-4a22-a599-efa153aa3ef4"
      },
      "outputs": [
        {
          "output_type": "stream",
          "name": "stdout",
          "text": [
            "type_dataset= 0\n",
            "0    284315\n",
            "Name: Class, dtype: int64\n",
            "type_dataset= 1\n",
            "1    492\n",
            "Name: Class, dtype: int64\n"
          ]
        },
        {
          "output_type": "execute_result",
          "data": {
            "text/plain": [
              "'\\n0    284315\\n1       492\\nName: Class, dtype: int64\\n'"
            ],
            "application/vnd.google.colaboratory.intrinsic+json": {
              "type": "string"
            }
          },
          "metadata": {},
          "execution_count": 3
        }
      ],
      "source": [
        "# DEFINE & CREATE DATASET\n",
        "\n",
        "class CreditcardDataset(Dataset):\n",
        "\n",
        "    def __init__(self, csv_file, type_dataset, transform=None):\n",
        "        \"\"\"\n",
        "        Args:\n",
        "            csv_file (string): Path to the csv file with annotations.\n",
        "            transform (callable, optional): Optional transform to be applied on a sample.\n",
        "        \"\"\"\n",
        "        self.type_dataset = type_dataset\n",
        "\n",
        "        self.df = pd.read_csv(csv_file, sep=\",\")\n",
        "        \n",
        "        self.df = self.df.drop('Time', axis=1)\n",
        "        \n",
        "        if (self.type_dataset >=0):\n",
        "            self.df = self.df[self.df.Class == type_dataset]\n",
        "\n",
        "        y = self.df.iloc[:]['Class'].values\n",
        "        x = self.df.drop('Class', axis=1).values\n",
        "        \n",
        "        self.X = torch.tensor(x, dtype=torch.float32)\n",
        "        self.Y = torch.tensor(y)\n",
        "        \n",
        "        self.transform = transform\n",
        "        \n",
        "        print ('type_dataset=', self.type_dataset)\n",
        "        print(self.df.iloc[:]['Class'].value_counts())\n",
        "\n",
        "    def __len__(self):\n",
        "        return len(self.Y)\n",
        "\n",
        "    def __getitem__(self, idx):\n",
        "        return self.X[idx], self.Y[idx] #sample\n",
        "    \n",
        "\n",
        "path = \"/content/drive/MyDrive/data/creditcard.csv\"\n",
        "#ENTIRE_dataset    = CreditcardDataset(csv_file='./data/creditcard.csv', type_dataset=-1)\n",
        "NORMAL_dataset    = CreditcardDataset(csv_file=path, type_dataset=0)\n",
        "ANOMALIES_dataset = CreditcardDataset(csv_file=path, type_dataset=1)\n",
        "\n",
        "\"\"\"\n",
        "0    284315\n",
        "1       492\n",
        "Name: Class, dtype: int64\n",
        "\"\"\""
      ]
    },
    {
      "cell_type": "code",
      "execution_count": 4,
      "id": "8400b997-9cee-4cce-a659-f7489092ac02",
      "metadata": {
        "colab": {
          "base_uri": "https://localhost:8080/"
        },
        "id": "8400b997-9cee-4cce-a659-f7489092ac02",
        "outputId": "506dfda0-4a72-4fe7-e6e2-575b00191705"
      },
      "outputs": [
        {
          "output_type": "stream",
          "name": "stdout",
          "text": [
            "# total samples NORMAL: 284315\n",
            "# total TRAIN samples NORMAL: 255883\n",
            "# total VAL samples NORMAL: 27863\n",
            "# total TEST samples NORMAL: 569\n",
            "# total samples ANOMALIES: 492\n",
            "# total TEST samples ANOMALIES: 492\n"
          ]
        }
      ],
      "source": [
        "# PREPARE DATASETS & LOADERS\n",
        "\n",
        "# NORMAL Dataset\n",
        "# Use ONLY NORMAL transactions to train the Autoencoder\n",
        "\n",
        "batch_size = 128\n",
        "train_split = 0.9 # 90%\n",
        "val_split = 0.98 #0.5 # xx% del resto\n",
        "\n",
        "train_size = int(train_split * len(NORMAL_dataset))\n",
        "val_size = int(val_split * (len(NORMAL_dataset) - train_size))\n",
        "test_size = len(NORMAL_dataset) - train_size - val_size\n",
        "\n",
        "train_dataset, val_dataset, test_dataset = torch.utils.data.random_split(NORMAL_dataset, [train_size, val_size, test_size])\n",
        "\n",
        "train_loader = DataLoader(train_dataset, batch_size=batch_size, \n",
        "                            shuffle=True, \n",
        "                            num_workers=0,\n",
        "                            #sampler=train_sampler\n",
        "                            )\n",
        "val_loader = DataLoader(val_dataset, batch_size=batch_size,\n",
        "                            shuffle=True, \n",
        "                            num_workers=0,\n",
        "                            #sampler=val_sampler\n",
        "                            )\n",
        "test_loader = DataLoader(test_dataset, batch_size=batch_size,\n",
        "                            shuffle=True, \n",
        "                            num_workers=0,\n",
        "                            #sampler=test_sampler\n",
        "                            )\n",
        "\n",
        "print (\"# total samples NORMAL:\", len(NORMAL_dataset))\n",
        "print (\"# total TRAIN samples NORMAL:\", len(train_loader.sampler))\n",
        "print (\"# total VAL samples NORMAL:\", len(val_loader.sampler))\n",
        "print (\"# total TEST samples NORMAL:\", len(test_loader.sampler))\n",
        "\n",
        "# Show on iteration from train dataset\n",
        "# iter() calls the __iter__() method on the loader which returns an iterator.\n",
        "# next() then calls the __next__() method on that iterator to get the first iteration.\n",
        "# Running next() again will get the second item of the iterator, etc.\n",
        "\n",
        "dataiter = iter(train_loader)\n",
        "\n",
        "\"\"\"\n",
        "X, Y = next(dataiter)\n",
        "print ('data from one iteration:', X)\n",
        "print ('labels from one iteration:', Y)\n",
        "\"\"\"\n",
        "\n",
        "# ANOMALIES Dataset\n",
        "# Use ANOMALIES transactions to test the Autoencoder\n",
        "\n",
        "ANOMALIES_test_loader = DataLoader(ANOMALIES_dataset, batch_size=batch_size,\n",
        "                            shuffle=True, \n",
        "                            num_workers=0,\n",
        "                            #sampler=test_sampler\n",
        "                            )\n",
        "\n",
        "print (\"# total samples ANOMALIES:\", len(ANOMALIES_dataset))\n",
        "print (\"# total TEST samples ANOMALIES:\", len(ANOMALIES_test_loader.sampler))\n"
      ]
    },
    {
      "cell_type": "code",
      "execution_count": 5,
      "id": "ecd2813b-1e3b-49b1-bf9d-93103b0cd843",
      "metadata": {
        "colab": {
          "base_uri": "https://localhost:8080/",
          "height": 53
        },
        "id": "ecd2813b-1e3b-49b1-bf9d-93103b0cd843",
        "outputId": "d1810429-3286-4519-c863-28c0d8b4268d"
      },
      "outputs": [
        {
          "output_type": "stream",
          "name": "stdout",
          "text": [
            "cuda:0\n"
          ]
        },
        {
          "output_type": "execute_result",
          "data": {
            "text/plain": [
              "'Tesla T4'"
            ],
            "application/vnd.google.colaboratory.intrinsic+json": {
              "type": "string"
            }
          },
          "metadata": {},
          "execution_count": 5
        }
      ],
      "source": [
        "# ACTIVATE DEVICE\n",
        "\n",
        "device = torch.device(\"cuda:0\" if torch.cuda.is_available() else \"cpu\")\n",
        "print(device)\n",
        "torch.cuda.get_device_name(0)\n"
      ]
    },
    {
      "cell_type": "code",
      "execution_count": 6,
      "id": "274dd20d-48ab-41da-918c-0020a6a47832",
      "metadata": {
        "colab": {
          "base_uri": "https://localhost:8080/"
        },
        "id": "274dd20d-48ab-41da-918c-0020a6a47832",
        "outputId": "56974b34-c693-4ced-a5bc-5e642216f433"
      },
      "outputs": [
        {
          "output_type": "stream",
          "name": "stdout",
          "text": [
            "encoderNet(\n",
            "  (encoder_L1): Linear(in_features=29, out_features=14, bias=True)\n",
            "  (encoder_R1): LeakyReLU(negative_slope=0.4, inplace=True)\n",
            "  (encoder_L2): Linear(in_features=14, out_features=7, bias=True)\n",
            "  (encoder_R2): LeakyReLU(negative_slope=0.4, inplace=True)\n",
            "  (encoder_L3): Linear(in_features=7, out_features=4, bias=True)\n",
            "  (encoder_R3): LeakyReLU(negative_slope=0.4, inplace=True)\n",
            "  (dropout): Dropout(p=0.0, inplace=True)\n",
            ")\n",
            "decoderNet(\n",
            "  (decoder_L1): Linear(in_features=4, out_features=7, bias=True)\n",
            "  (decoder_R1): LeakyReLU(negative_slope=0.4, inplace=True)\n",
            "  (decoder_L2): Linear(in_features=7, out_features=14, bias=True)\n",
            "  (decoder_R2): LeakyReLU(negative_slope=0.4, inplace=True)\n",
            "  (decoder_L3): Linear(in_features=14, out_features=29, bias=True)\n",
            "  (decoder_R3): LeakyReLU(negative_slope=0.4, inplace=True)\n",
            "  (dropout): Dropout(p=0.0, inplace=True)\n",
            ")\n"
          ]
        }
      ],
      "source": [
        "# DEFINE NEURAL NETWORK MODEL\n",
        "# AUTOENCODER = ENCODER + DECODER\n",
        "\n",
        "class encoderNet(nn.Module):\n",
        "\n",
        "    def __init__(self):\n",
        "\n",
        "        super(encoderNet, self).__init__()\n",
        "\n",
        "        # specify layer 1 - in 29, out 14\n",
        "        self.encoder_L1 = nn.Linear(in_features=29, out_features=14, bias=True) \n",
        "        nn.init.xavier_uniform_(self.encoder_L1.weight) \n",
        "        self.encoder_R1 = nn.LeakyReLU(negative_slope=0.4, inplace=True) \n",
        "\n",
        "        # specify layer 2 - in 14, out 7\n",
        "        self.encoder_L2 = nn.Linear(14, 7, bias=True)\n",
        "        nn.init.xavier_uniform_(self.encoder_L2.weight)\n",
        "        self.encoder_R2 = nn.LeakyReLU(negative_slope=0.4, inplace=True)\n",
        "\n",
        "        # specify layer 3 - in 7, out 4\n",
        "        self.encoder_L3 = nn.Linear(7, 4, bias=True)\n",
        "        nn.init.xavier_uniform_(self.encoder_L3.weight)\n",
        "        self.encoder_R3 = nn.LeakyReLU(negative_slope=0.4, inplace=True)\n",
        "\n",
        "        # init dropout layer with probability p\n",
        "        self.dropout = nn.Dropout(p=0.0, inplace=True)\n",
        "        \n",
        "    def forward(self, x):\n",
        "\n",
        "        # define forward pass through the network\n",
        "        x = self.encoder_R1(self.dropout(self.encoder_L1(x)))\n",
        "        x = self.encoder_R2(self.dropout(self.encoder_L2(x)))\n",
        "        x = self.encoder_R3(self.encoder_L3(x)) \n",
        "\n",
        "        return x\n",
        "\n",
        "\n",
        "class decoderNet(nn.Module):\n",
        "\n",
        "    def __init__(self):\n",
        "\n",
        "        super(decoderNet, self).__init__()\n",
        "\n",
        "        # specify layer 1 - in 4, out 7\n",
        "        self.decoder_L1 = nn.Linear(in_features=4, out_features=7, bias=True)  \n",
        "        nn.init.xavier_uniform_(self.decoder_L1.weight)  \n",
        "        self.decoder_R1 = nn.LeakyReLU(negative_slope=0.4, inplace=True) \n",
        "\n",
        "        # specify layer 2 - in 7, out 14\n",
        "        self.decoder_L2 = nn.Linear(7, 14, bias=True)\n",
        "        nn.init.xavier_uniform_(self.decoder_L2.weight)\n",
        "        self.decoder_R2 = nn.LeakyReLU(negative_slope=0.4, inplace=True)\n",
        "\n",
        "        # specify layer 3 - in 14, out 29\n",
        "        self.decoder_L3 = nn.Linear(14, 29, bias=True)\n",
        "        nn.init.xavier_uniform_(self.decoder_L3.weight)\n",
        "        self.decoder_R3 = nn.LeakyReLU(negative_slope=0.4, inplace=True)\n",
        "\n",
        "        # init dropout layer with probability p\n",
        "        self.dropout = nn.Dropout(p=0.0, inplace=True)\n",
        "\n",
        "    def forward(self, x):\n",
        "\n",
        "        # define forward pass through the network\n",
        "        x = self.decoder_R1(self.dropout(self.decoder_L1(x)))\n",
        "        x = self.decoder_R2(self.dropout(self.decoder_L2(x)))\n",
        "        x = self.decoder_R3(self.decoder_L3(x))\n",
        "        \n",
        "        return x\n",
        "\n",
        "encoder = encoderNet()\n",
        "decoder = decoderNet()\n",
        "\n",
        "encoder.to(device)\n",
        "decoder.to(device)\n",
        "\n",
        "print (encoder)\n",
        "print (decoder)\n"
      ]
    },
    {
      "cell_type": "code",
      "execution_count": 7,
      "id": "42be73e8-762e-4d90-a746-b52e9bb2163d",
      "metadata": {
        "id": "42be73e8-762e-4d90-a746-b52e9bb2163d"
      },
      "outputs": [],
      "source": [
        "# DEFINE LOSS FUNCTION AND OPTIMIZATION METHOD\n",
        "\n",
        "#criterion = nn.L1Loss(reduction='mean')\n",
        "criterion = nn.MSELoss(reduction='mean')\n",
        "\n",
        "learning_rate = 1e-3\n",
        "encoder_optimizer = torch.optim.Adam(encoder.parameters(), learning_rate)\n",
        "decoder_optimizer = torch.optim.Adam(decoder.parameters(), learning_rate)"
      ]
    },
    {
      "cell_type": "code",
      "execution_count": 8,
      "id": "2233e97b-ddf5-48d3-85a9-9c669089886b",
      "metadata": {
        "id": "2233e97b-ddf5-48d3-85a9-9c669089886b"
      },
      "outputs": [],
      "source": [
        "# DEFINE TRAIN & EVAL FUNCTIONS\n",
        "\n",
        "def train_model(encoder, decoder, train_loader, criterion, encoder_optimizer, decoder_optimizer, epoch):\n",
        "  \n",
        "    encoder.train()\n",
        "    decoder.train()\n",
        "\n",
        "    total_epoch_loss = 0\n",
        "      \n",
        "    for i, (X, Y) in enumerate(train_loader):\n",
        "        # X from dataset: [batch, 29]\n",
        "        # Y from dataset: [batch]\n",
        "        \n",
        "        X = X.to(device)\n",
        "        \n",
        "        # Forward pass\n",
        "        Z = encoder(X)\n",
        "        output = decoder(Z)\n",
        "\n",
        "        reconstruction_loss = criterion(output, X)\n",
        "        \n",
        "        # Backward and optimize\n",
        "        decoder_optimizer.zero_grad()\n",
        "        encoder_optimizer.zero_grad()\n",
        "\n",
        "        reconstruction_loss.backward()\n",
        "        \n",
        "        #Update parameters for our model\n",
        "        decoder_optimizer.step()\n",
        "        encoder_optimizer.step()\n",
        "\n",
        "        if (i+1) % 1000 == 0:\n",
        "          print (f'Epoch: {epoch+1}, Idx: ({i+1}/{len(train_loader)}), Training Loss: {reconstruction_loss.item():.4f}')\n",
        "      \n",
        "        total_epoch_loss += reconstruction_loss.item()\n",
        "\n",
        "    return total_epoch_loss/len(train_loader)\n",
        "\n",
        "\n",
        "def eval_model(encoder, decoder, val_loader, criterion):\n",
        "\n",
        "  encoder.eval()\n",
        "  decoder.eval()\n",
        "\n",
        "  total_epoch_loss = 0\n",
        "\n",
        "  with torch.no_grad():\n",
        "        \n",
        "    for i, (X, Y) in enumerate(val_loader):\n",
        "        # X from dataset: [batch, 29]\n",
        "        # Y from dataset: [batch]\n",
        "        \n",
        "        X = X.to(device)\n",
        "        \n",
        "        # Forward pass\n",
        "        Z = encoder(X)\n",
        "        output = decoder(Z)\n",
        "\n",
        "        reconstruction_loss = criterion(output, X)\n",
        "       \n",
        "        total_epoch_loss += reconstruction_loss.item()\n",
        "       \n",
        "    return total_epoch_loss/len(val_loader)\n"
      ]
    },
    {
      "cell_type": "code",
      "execution_count": 10,
      "id": "9fc99b0a-77b6-4210-abab-d76ba93e3dee",
      "metadata": {
        "colab": {
          "base_uri": "https://localhost:8080/",
          "height": 1000
        },
        "id": "9fc99b0a-77b6-4210-abab-d76ba93e3dee",
        "outputId": "12a437bc-d616-49ed-9835-e135e3dce6cb"
      },
      "outputs": [
        {
          "output_type": "stream",
          "name": "stdout",
          "text": [
            "Epoch: 1, Idx: (100/2000), Training Loss: 137.7106\n",
            "Epoch: 1, Idx: (200/2000), Training Loss: 1.4701\n",
            "Epoch: 1, Idx: (300/2000), Training Loss: 1.3079\n",
            "Epoch: 1, Idx: (400/2000), Training Loss: 2.2124\n",
            "Epoch: 1, Idx: (500/2000), Training Loss: 0.8840\n",
            "Epoch: 1, Idx: (600/2000), Training Loss: 1.1684\n",
            "Epoch: 1, Idx: (700/2000), Training Loss: 1.2295\n",
            "Epoch: 1, Idx: (800/2000), Training Loss: 1.0197\n",
            "Epoch: 1, Idx: (900/2000), Training Loss: 1.0523\n",
            "Epoch: 1, Idx: (1000/2000), Training Loss: 0.7362\n",
            "Epoch: 1, Idx: (1100/2000), Training Loss: 2.7016\n",
            "Epoch: 1, Idx: (1200/2000), Training Loss: 1.0455\n",
            "Epoch: 1, Idx: (1300/2000), Training Loss: 0.8295\n",
            "Epoch: 1, Idx: (1400/2000), Training Loss: 2.3636\n",
            "Epoch: 1, Idx: (1500/2000), Training Loss: 1.1817\n",
            "Epoch: 1, Idx: (1600/2000), Training Loss: 9.9721\n",
            "Epoch: 1, Idx: (1700/2000), Training Loss: 0.8474\n",
            "Epoch: 1, Idx: (1800/2000), Training Loss: 1.0542\n",
            "Epoch: 1, Idx: (1900/2000), Training Loss: 0.8696\n",
            "Epoch: 1, Idx: (2000/2000), Training Loss: 0.4766\n",
            "Epoch: [01/10], Train Loss: 71.929, Val. Loss: 0.950951\n",
            "Epoch: 2, Idx: (100/2000), Training Loss: 0.7407\n",
            "Epoch: 2, Idx: (200/2000), Training Loss: 1.1489\n",
            "Epoch: 2, Idx: (300/2000), Training Loss: 1.2399\n",
            "Epoch: 2, Idx: (400/2000), Training Loss: 1.8188\n",
            "Epoch: 2, Idx: (500/2000), Training Loss: 1.0359\n",
            "Epoch: 2, Idx: (600/2000), Training Loss: 0.8443\n",
            "Epoch: 2, Idx: (700/2000), Training Loss: 1.3879\n",
            "Epoch: 2, Idx: (800/2000), Training Loss: 0.8264\n",
            "Epoch: 2, Idx: (900/2000), Training Loss: 1.3345\n",
            "Epoch: 2, Idx: (1000/2000), Training Loss: 0.7815\n",
            "Epoch: 2, Idx: (1100/2000), Training Loss: 1.1013\n",
            "Epoch: 2, Idx: (1200/2000), Training Loss: 0.8418\n",
            "Epoch: 2, Idx: (1300/2000), Training Loss: 1.0089\n",
            "Epoch: 2, Idx: (1400/2000), Training Loss: 0.9222\n",
            "Epoch: 2, Idx: (1500/2000), Training Loss: 1.8056\n",
            "Epoch: 2, Idx: (1600/2000), Training Loss: 0.7827\n",
            "Epoch: 2, Idx: (1700/2000), Training Loss: 1.0509\n",
            "Epoch: 2, Idx: (1800/2000), Training Loss: 0.8815\n",
            "Epoch: 2, Idx: (1900/2000), Training Loss: 0.7635\n",
            "Epoch: 2, Idx: (2000/2000), Training Loss: 2.0404\n",
            "Epoch: [02/10], Train Loss: 1.256, Val. Loss: 0.910828\n",
            "Epoch: 3, Idx: (100/2000), Training Loss: 0.8299\n",
            "Epoch: 3, Idx: (200/2000), Training Loss: 1.0467\n",
            "Epoch: 3, Idx: (300/2000), Training Loss: 1.0609\n",
            "Epoch: 3, Idx: (400/2000), Training Loss: 1.3197\n",
            "Epoch: 3, Idx: (500/2000), Training Loss: 1.2096\n",
            "Epoch: 3, Idx: (600/2000), Training Loss: 1.0944\n",
            "Epoch: 3, Idx: (700/2000), Training Loss: 1.0773\n",
            "Epoch: 3, Idx: (800/2000), Training Loss: 0.8474\n",
            "Epoch: 3, Idx: (900/2000), Training Loss: 0.9747\n",
            "Epoch: 3, Idx: (1000/2000), Training Loss: 1.2458\n",
            "Epoch: 3, Idx: (1100/2000), Training Loss: 0.8165\n",
            "Epoch: 3, Idx: (1200/2000), Training Loss: 0.9476\n",
            "Epoch: 3, Idx: (1300/2000), Training Loss: 0.9127\n",
            "Epoch: 3, Idx: (1400/2000), Training Loss: 0.8866\n",
            "Epoch: 3, Idx: (1500/2000), Training Loss: 0.7296\n",
            "Epoch: 3, Idx: (1600/2000), Training Loss: 2.2270\n",
            "Epoch: 3, Idx: (1700/2000), Training Loss: 1.7837\n",
            "Epoch: 3, Idx: (1800/2000), Training Loss: 0.8057\n",
            "Epoch: 3, Idx: (1900/2000), Training Loss: 0.7948\n",
            "Epoch: 3, Idx: (2000/2000), Training Loss: 0.7567\n",
            "Epoch: [03/10], Train Loss: 1.315, Val. Loss: 0.898704\n",
            "Epoch: 4, Idx: (100/2000), Training Loss: 0.8592\n",
            "Epoch: 4, Idx: (200/2000), Training Loss: 1.0683\n",
            "Epoch: 4, Idx: (300/2000), Training Loss: 0.9002\n",
            "Epoch: 4, Idx: (400/2000), Training Loss: 0.7809\n",
            "Epoch: 4, Idx: (500/2000), Training Loss: 0.9908\n",
            "Epoch: 4, Idx: (600/2000), Training Loss: 0.9535\n",
            "Epoch: 4, Idx: (700/2000), Training Loss: 0.6980\n",
            "Epoch: 4, Idx: (800/2000), Training Loss: 1.1735\n",
            "Epoch: 4, Idx: (900/2000), Training Loss: 0.7481\n",
            "Epoch: 4, Idx: (1000/2000), Training Loss: 0.8879\n",
            "Epoch: 4, Idx: (1100/2000), Training Loss: 0.7453\n",
            "Epoch: 4, Idx: (1200/2000), Training Loss: 0.9709\n",
            "Epoch: 4, Idx: (1300/2000), Training Loss: 1.0663\n",
            "Epoch: 4, Idx: (1400/2000), Training Loss: 0.7796\n",
            "Epoch: 4, Idx: (1500/2000), Training Loss: 0.7914\n",
            "Epoch: 4, Idx: (1600/2000), Training Loss: 0.7798\n",
            "Epoch: 4, Idx: (1700/2000), Training Loss: 1.4209\n",
            "Epoch: 4, Idx: (1800/2000), Training Loss: 1.0487\n",
            "Epoch: 4, Idx: (1900/2000), Training Loss: 0.9229\n",
            "Epoch: 4, Idx: (2000/2000), Training Loss: 0.7578\n",
            "Epoch: [04/10], Train Loss: 1.103, Val. Loss: 0.893613\n",
            "Epoch: 5, Idx: (100/2000), Training Loss: 0.8314\n",
            "Epoch: 5, Idx: (200/2000), Training Loss: 1.3433\n",
            "Epoch: 5, Idx: (300/2000), Training Loss: 9.1561\n",
            "Epoch: 5, Idx: (400/2000), Training Loss: 1.0846\n",
            "Epoch: 5, Idx: (500/2000), Training Loss: 0.7798\n",
            "Epoch: 5, Idx: (600/2000), Training Loss: 0.7867\n",
            "Epoch: 5, Idx: (700/2000), Training Loss: 1.4675\n",
            "Epoch: 5, Idx: (800/2000), Training Loss: 1.0161\n",
            "Epoch: 5, Idx: (900/2000), Training Loss: 0.9545\n",
            "Epoch: 5, Idx: (1000/2000), Training Loss: 1.1534\n",
            "Epoch: 5, Idx: (1100/2000), Training Loss: 0.8594\n",
            "Epoch: 5, Idx: (1200/2000), Training Loss: 0.7605\n",
            "Epoch: 5, Idx: (1300/2000), Training Loss: 0.9109\n",
            "Epoch: 5, Idx: (1400/2000), Training Loss: 0.9268\n",
            "Epoch: 5, Idx: (1500/2000), Training Loss: 0.9925\n",
            "Epoch: 5, Idx: (1600/2000), Training Loss: 11.5401\n",
            "Epoch: 5, Idx: (1700/2000), Training Loss: 1.3044\n",
            "Epoch: 5, Idx: (1800/2000), Training Loss: 1.1940\n",
            "Epoch: 5, Idx: (1900/2000), Training Loss: 1.1803\n",
            "Epoch: 5, Idx: (2000/2000), Training Loss: 0.7392\n",
            "Epoch: [05/10], Train Loss: 1.561, Val. Loss: 0.870521\n",
            "Epoch: 6, Idx: (100/2000), Training Loss: 0.8666\n",
            "Epoch: 6, Idx: (200/2000), Training Loss: 1.1746\n",
            "Epoch: 6, Idx: (300/2000), Training Loss: 0.7484\n",
            "Epoch: 6, Idx: (400/2000), Training Loss: 0.7021\n",
            "Epoch: 6, Idx: (500/2000), Training Loss: 0.8132\n",
            "Epoch: 6, Idx: (600/2000), Training Loss: 0.7987\n",
            "Epoch: 6, Idx: (700/2000), Training Loss: 0.7982\n",
            "Epoch: 6, Idx: (800/2000), Training Loss: 0.8046\n",
            "Epoch: 6, Idx: (900/2000), Training Loss: 0.6834\n",
            "Epoch: 6, Idx: (1000/2000), Training Loss: 1.0244\n",
            "Epoch: 6, Idx: (1100/2000), Training Loss: 0.8327\n",
            "Epoch: 6, Idx: (1200/2000), Training Loss: 0.7718\n",
            "Epoch: 6, Idx: (1300/2000), Training Loss: 0.8544\n",
            "Epoch: 6, Idx: (1400/2000), Training Loss: 0.8841\n",
            "Epoch: 6, Idx: (1500/2000), Training Loss: 0.7693\n",
            "Epoch: 6, Idx: (1600/2000), Training Loss: 0.9033\n",
            "Epoch: 6, Idx: (1700/2000), Training Loss: 0.6640\n",
            "Epoch: 6, Idx: (1800/2000), Training Loss: 0.6991\n",
            "Epoch: 6, Idx: (1900/2000), Training Loss: 0.6382\n",
            "Epoch: 6, Idx: (2000/2000), Training Loss: 0.6215\n",
            "Epoch: [06/10], Train Loss: 0.996, Val. Loss: 0.846701\n",
            "Epoch: 7, Idx: (100/2000), Training Loss: 0.6658\n",
            "Epoch: 7, Idx: (200/2000), Training Loss: 0.8163\n",
            "Epoch: 7, Idx: (300/2000), Training Loss: 1.1104\n",
            "Epoch: 7, Idx: (400/2000), Training Loss: 0.7870\n",
            "Epoch: 7, Idx: (500/2000), Training Loss: 0.9726\n",
            "Epoch: 7, Idx: (600/2000), Training Loss: 3.6038\n",
            "Epoch: 7, Idx: (700/2000), Training Loss: 1.1335\n",
            "Epoch: 7, Idx: (800/2000), Training Loss: 3.3447\n",
            "Epoch: 7, Idx: (900/2000), Training Loss: 0.8049\n",
            "Epoch: 7, Idx: (1000/2000), Training Loss: 0.7816\n",
            "Epoch: 7, Idx: (1100/2000), Training Loss: 0.6695\n",
            "Epoch: 7, Idx: (1200/2000), Training Loss: 0.6984\n",
            "Epoch: 7, Idx: (1300/2000), Training Loss: 0.8028\n",
            "Epoch: 7, Idx: (1400/2000), Training Loss: 0.9231\n",
            "Epoch: 7, Idx: (1500/2000), Training Loss: 0.6880\n",
            "Epoch: 7, Idx: (1600/2000), Training Loss: 1.1360\n",
            "Epoch: 7, Idx: (1700/2000), Training Loss: 0.7816\n",
            "Epoch: 7, Idx: (1800/2000), Training Loss: 0.6066\n",
            "Epoch: 7, Idx: (1900/2000), Training Loss: 0.6899\n",
            "Epoch: 7, Idx: (2000/2000), Training Loss: 1.0032\n",
            "Epoch: [07/10], Train Loss: 1.213, Val. Loss: 0.791723\n",
            "Epoch: 8, Idx: (100/2000), Training Loss: 0.7434\n",
            "Epoch: 8, Idx: (200/2000), Training Loss: 1.2420\n",
            "Epoch: 8, Idx: (300/2000), Training Loss: 0.7727\n",
            "Epoch: 8, Idx: (400/2000), Training Loss: 0.7357\n",
            "Epoch: 8, Idx: (500/2000), Training Loss: 0.6987\n",
            "Epoch: 8, Idx: (600/2000), Training Loss: 0.6238\n",
            "Epoch: 8, Idx: (700/2000), Training Loss: 0.6295\n",
            "Epoch: 8, Idx: (800/2000), Training Loss: 8.2930\n",
            "Epoch: 8, Idx: (900/2000), Training Loss: 0.6276\n",
            "Epoch: 8, Idx: (1000/2000), Training Loss: 1.6178\n",
            "Epoch: 8, Idx: (1100/2000), Training Loss: 0.7982\n",
            "Epoch: 8, Idx: (1200/2000), Training Loss: 0.7928\n",
            "Epoch: 8, Idx: (1300/2000), Training Loss: 1.4694\n",
            "Epoch: 8, Idx: (1400/2000), Training Loss: 0.6616\n",
            "Epoch: 8, Idx: (1500/2000), Training Loss: 0.7463\n",
            "Epoch: 8, Idx: (1600/2000), Training Loss: 0.7246\n",
            "Epoch: 8, Idx: (1700/2000), Training Loss: 0.5913\n",
            "Epoch: 8, Idx: (1800/2000), Training Loss: 0.6365\n",
            "Epoch: 8, Idx: (1900/2000), Training Loss: 0.6725\n",
            "Epoch: 8, Idx: (2000/2000), Training Loss: 0.7786\n",
            "Epoch: [08/10], Train Loss: 1.117, Val. Loss: 0.781388\n",
            "Epoch: 9, Idx: (100/2000), Training Loss: 0.8654\n",
            "Epoch: 9, Idx: (200/2000), Training Loss: 0.6898\n",
            "Epoch: 9, Idx: (300/2000), Training Loss: 0.7785\n",
            "Epoch: 9, Idx: (400/2000), Training Loss: 0.7749\n",
            "Epoch: 9, Idx: (500/2000), Training Loss: 0.6866\n",
            "Epoch: 9, Idx: (600/2000), Training Loss: 0.6455\n",
            "Epoch: 9, Idx: (700/2000), Training Loss: 0.6219\n",
            "Epoch: 9, Idx: (800/2000), Training Loss: 0.9649\n",
            "Epoch: 9, Idx: (900/2000), Training Loss: 2.9090\n",
            "Epoch: 9, Idx: (1000/2000), Training Loss: 1.0046\n",
            "Epoch: 9, Idx: (1100/2000), Training Loss: 0.7988\n",
            "Epoch: 9, Idx: (1200/2000), Training Loss: 1.4950\n",
            "Epoch: 9, Idx: (1300/2000), Training Loss: 0.6242\n",
            "Epoch: 9, Idx: (1400/2000), Training Loss: 0.9457\n",
            "Epoch: 9, Idx: (1500/2000), Training Loss: 0.7267\n",
            "Epoch: 9, Idx: (1600/2000), Training Loss: 1.0570\n",
            "Epoch: 9, Idx: (1700/2000), Training Loss: 0.5570\n",
            "Epoch: 9, Idx: (1800/2000), Training Loss: 1.7000\n",
            "Epoch: 9, Idx: (1900/2000), Training Loss: 1.1113\n",
            "Epoch: 9, Idx: (2000/2000), Training Loss: 0.6474\n",
            "Epoch: [09/10], Train Loss: 2.374, Val. Loss: 0.797774\n",
            "Epoch: 10, Idx: (100/2000), Training Loss: 0.6189\n",
            "Epoch: 10, Idx: (200/2000), Training Loss: 0.6272\n",
            "Epoch: 10, Idx: (300/2000), Training Loss: 1.2480\n",
            "Epoch: 10, Idx: (400/2000), Training Loss: 0.8236\n",
            "Epoch: 10, Idx: (500/2000), Training Loss: 0.8611\n",
            "Epoch: 10, Idx: (600/2000), Training Loss: 0.8629\n",
            "Epoch: 10, Idx: (700/2000), Training Loss: 0.6237\n",
            "Epoch: 10, Idx: (800/2000), Training Loss: 1.0361\n",
            "Epoch: 10, Idx: (900/2000), Training Loss: 0.7245\n",
            "Epoch: 10, Idx: (1000/2000), Training Loss: 0.5511\n",
            "Epoch: 10, Idx: (1100/2000), Training Loss: 0.9108\n",
            "Epoch: 10, Idx: (1200/2000), Training Loss: 0.5840\n",
            "Epoch: 10, Idx: (1300/2000), Training Loss: 0.6514\n",
            "Epoch: 10, Idx: (1400/2000), Training Loss: 0.8666\n",
            "Epoch: 10, Idx: (1500/2000), Training Loss: 1.2922\n",
            "Epoch: 10, Idx: (1600/2000), Training Loss: 0.6062\n",
            "Epoch: 10, Idx: (1700/2000), Training Loss: 0.7255\n",
            "Epoch: 10, Idx: (1800/2000), Training Loss: 0.5275\n",
            "Epoch: 10, Idx: (1900/2000), Training Loss: 0.8079\n",
            "Epoch: 10, Idx: (2000/2000), Training Loss: 0.4843\n",
            "Epoch: [10/10], Train Loss: 0.845, Val. Loss: 0.725521\n",
            "Training complete in 1m 23s\n"
          ]
        },
        {
          "output_type": "display_data",
          "data": {
            "text/plain": [
              "<Figure size 720x360 with 1 Axes>"
            ],
            "image/png": "[encoded data removed]"
          },
          "metadata": {
            "needs_background": "light"
          }
        }
      ],
      "source": [
        "# TRAINING LOOP\n",
        "\n",
        "since = time.time()\n",
        "\n",
        "epochs = 10 \n",
        "train_loss_epochs = []\n",
        "val_loss_epochs = []\n",
        "\n",
        "for epoch in range(epochs):\n",
        "    train_loss = train_model(encoder, decoder, train_loader, criterion, encoder_optimizer, decoder_optimizer, epoch)\n",
        "    val_loss   = eval_model(encoder, decoder, val_loader, criterion)\n",
        "    \n",
        "    print(f'Epoch: [{epoch+1:02}/{epochs}], Train Loss: {train_loss:.3f}, Val. Loss: {val_loss:3f}')\n",
        "    train_loss_epochs.append(train_loss)\n",
        "    val_loss_epochs.append(val_loss)\n",
        "\n",
        "    \n",
        "time_elapsed = time.time() - since\n",
        "print('Training complete in {:.0f}m {:.0f}s'.format(time_elapsed // 60, time_elapsed % 60))\n",
        "\n",
        "plt.figure(figsize=(10,5))\n",
        "plt.title(\"Autoencoder Reconstruction Loss during Training\")\n",
        "plt.plot(train_loss_epochs,label=\"Training reconstruction loss\")\n",
        "plt.plot(val_loss_epochs,label=\"Validation reconstruction loss\")\n",
        "plt.xlabel(\"Epoch\")\n",
        "plt.ylabel(\"Reconstruction error\")\n",
        "plt.legend()\n",
        "plt.show()\n",
        "\n",
        "#torch.save(encoder.state_dict(), './models/encoderAnomaliesNET.pth')\n",
        "#torch.save(decoder.state_dict(), './models/decoderAnomaliesNET.pth')"
      ]
    },
    {
      "cell_type": "code",
      "execution_count": 11,
      "id": "3dcc272a-434c-4169-b5fd-a12a93b93407",
      "metadata": {
        "colab": {
          "base_uri": "https://localhost:8080/"
        },
        "id": "3dcc272a-434c-4169-b5fd-a12a93b93407",
        "outputId": "f147c3ff-17f4-4f76-a701-3be0f4ba519e"
      },
      "outputs": [
        {
          "output_type": "stream",
          "name": "stdout",
          "text": [
            "Reconstruction Loss TEST_NORMAL:  0.7650341987609863\n",
            "Reconstruction Loss TEST_ANOMALIES:  26.607819080352783\n"
          ]
        }
      ],
      "source": [
        "# TEST THE MODEL\n",
        "\n",
        "total_epoch_loss = 0\n",
        "\n",
        "with torch.no_grad():\n",
        "    for X, Y in test_loader:\n",
        "     \n",
        "        X = X.to(device)\n",
        "\n",
        "        output = decoder(encoder(X))\n",
        "\n",
        "        reconstruction_loss = criterion(output, X)\n",
        "        #print (reconstruction_loss)\n",
        "       \n",
        "        total_epoch_loss += reconstruction_loss.item()\n",
        "\n",
        "    print ('Reconstruction Loss TEST_NORMAL: ', total_epoch_loss/len(test_loader))\n",
        "\n",
        "total_epoch_loss = 0\n",
        "\n",
        "with torch.no_grad():\n",
        "    for X, Y in ANOMALIES_test_loader:\n",
        "     \n",
        "        X = X.to(device)\n",
        "\n",
        "        output = decoder(encoder(X))\n",
        "\n",
        "        reconstruction_loss = criterion(output, X)\n",
        "        #print (reconstruction_loss)\n",
        "       \n",
        "        total_epoch_loss += reconstruction_loss.item()\n",
        "\n",
        "    print ('Reconstruction Loss TEST_ANOMALIES: ', total_epoch_loss/len(ANOMALIES_test_loader))"
      ]
    },
    {
      "cell_type": "code",
      "execution_count": 12,
      "id": "5f4fa594",
      "metadata": {
        "colab": {
          "base_uri": "https://localhost:8080/"
        },
        "id": "5f4fa594",
        "outputId": "46fa88f2-50e5-4bdb-a324-00249724cacf"
      },
      "outputs": [
        {
          "output_type": "stream",
          "name": "stdout",
          "text": [
            "Reconstruction Loss test (NORMAL):  569\n",
            "Reconstruction Loss ALL (ANOMALIES):  1061\n"
          ]
        }
      ],
      "source": [
        "# CALCULATE THE RECONSTRUCTION LOSS FOR TEST & ANOMALIES DATASET\n",
        "\n",
        "reconstruction_loss_all = []\n",
        "\n",
        "with torch.no_grad():\n",
        "    #for i in range(len(NORMAL_dataset)):\n",
        "    for i in range(len(test_dataset)):\n",
        "     \n",
        "        #X = NORMAL_dataset[i][0]\n",
        "        X = test_dataset[i][0]\n",
        "        X = X.to(device)\n",
        "\n",
        "        output = decoder(encoder(X))\n",
        "\n",
        "        reconstruction_loss = criterion(output, X)\n",
        "        #print (reconstruction_loss)\n",
        "       \n",
        "        reconstruction_loss_all.append(reconstruction_loss.item())\n",
        "\n",
        "#print ('Reconstruction Loss ALL (NORMAL): ', len (reconstruction_loss_all))\n",
        "print ('Reconstruction Loss test (NORMAL): ', len (reconstruction_loss_all))\n",
        "\n",
        "with torch.no_grad():\n",
        "    for i in range(len(ANOMALIES_dataset)):\n",
        "     \n",
        "        X = ANOMALIES_dataset[i][0]\n",
        "        X = X.to(device)\n",
        "\n",
        "        output = decoder(encoder(X))\n",
        "\n",
        "        reconstruction_loss = criterion(output, X)\n",
        "        #print (reconstruction_loss)\n",
        "       \n",
        "        reconstruction_loss_all.append(reconstruction_loss.item())\n",
        "\n",
        "    print ('Reconstruction Loss ALL (ANOMALIES): ', len (reconstruction_loss_all))\n",
        "\n"
      ]
    },
    {
      "cell_type": "code",
      "execution_count": 13,
      "id": "6d9690f1",
      "metadata": {
        "colab": {
          "base_uri": "https://localhost:8080/",
          "height": 602
        },
        "id": "6d9690f1",
        "outputId": "4c8cf8ec-369d-4773-e736-57777966e8c0"
      },
      "outputs": [
        {
          "output_type": "execute_result",
          "data": {
            "text/plain": [
              "Text(0.5, 0, 'Data point index')"
            ]
          },
          "metadata": {},
          "execution_count": 13
        },
        {
          "output_type": "display_data",
          "data": {
            "text/plain": [
              "<Figure size 2160x720 with 1 Axes>"
            ],
            "image/png": "[encoded data removed]"
          },
          "metadata": {
            "needs_background": "light"
          }
        }
      ],
      "source": [
        "# PLOT THE RECONSTRUCTION LOSS FOR ENTIRE DATASET & THRESHOLD\n",
        "# Anomalies are data points where the reconstruction loss is higher\n",
        "\n",
        "threshold_fixed = 1.5\n",
        "fig = plt.figure(figsize=(30,10))\n",
        "\n",
        "ax = fig.add_subplot(111)\n",
        "\n",
        "# NOTA: HAY QUE METER UNA TERCERA COLUMNA CON EL LABEL !!!!!\n",
        "plot_data = np.column_stack((np.arange(len(reconstruction_loss_all)), reconstruction_loss_all))\n",
        "\n",
        "#normal_data = plot_data[0:len(NORMAL_dataset)]\n",
        "#anomalies_data = plot_data[len(NORMAL_dataset):len(NORMAL_dataset)+len(ANOMALIES_dataset)]\n",
        "\n",
        "normal_data = plot_data[0:len(test_dataset)]\n",
        "anomalies_data = plot_data[len(test_dataset):len(test_dataset)+len(ANOMALIES_dataset)]\n",
        "\n",
        "ax.set_ylim([0, max(anomalies_data[:,1])])\n",
        "#ax.set_ylim([0, 200])\n",
        "\n",
        "ax.scatter(normal_data[:,0], normal_data[:,1], c='C0', alpha=0.4, marker='o', label='NORMAL')\n",
        "ax.scatter(anomalies_data[:,0], anomalies_data[:,1], c='C1', marker='^', label='ANOMALIES')\n",
        "\n",
        "#ax.plot(regular_data[:,0], regular_data[:,1], c='C0', alpha=0.4, marker='o', label='NORMAL')\n",
        "#ax.plot(global_outliers[:,0], global_outliers[:,1], c='C1', marker='^', label='ANOMALIES')\n",
        "ax.hlines(threshold_fixed, ax.get_xlim()[0], ax.get_xlim()[1], colors=\"r\", zorder=100, label='Threshold')\n",
        "ax.legend(loc='best')\n",
        "plt.title(\"Reconstruction error for normal and anomalies\")\n",
        "plt.ylabel(\"Reconstruction error\")\n",
        "plt.xlabel(\"Data point index\")"
      ]
    },
    {
      "cell_type": "code",
      "execution_count": 14,
      "id": "c488a279-85fb-4e73-b11e-bb6cdb49ca69",
      "metadata": {
        "colab": {
          "base_uri": "https://localhost:8080/",
          "height": 438
        },
        "id": "c488a279-85fb-4e73-b11e-bb6cdb49ca69",
        "outputId": "ed86a68c-a32c-41f5-b36f-555d7e05037e"
      },
      "outputs": [
        {
          "output_type": "stream",
          "name": "stdout",
          "text": [
            "tensor([[547.,  22.],\n",
            "        [ 62., 430.]])\n",
            "Test Acc:  92.08294062205466 %\n"
          ]
        },
        {
          "output_type": "stream",
          "name": "stderr",
          "text": [
            "<ipython-input-14-9fa7f343e697>:52: UserWarning: FixedFormatter should only be used together with FixedLocator\n",
            "  ax.set_xticklabels([''] + listclasses, rotation=90)\n",
            "<ipython-input-14-9fa7f343e697>:53: UserWarning: FixedFormatter should only be used together with FixedLocator\n",
            "  ax.set_yticklabels([''] + listclasses)\n"
          ]
        },
        {
          "output_type": "display_data",
          "data": {
            "text/plain": [
              "<Figure size 432x288 with 2 Axes>"
            ],
            "image/png": "[encoded data removed]"
          },
          "metadata": {
            "needs_background": "light"
          }
        }
      ],
      "source": [
        "# CONFUSION MATRIX\n",
        "\n",
        "import matplotlib.pyplot as plt\n",
        "import matplotlib.ticker as ticker\n",
        "\n",
        "listclasses = ['NORMAL', 'ANOMALIES']\n",
        "numclasses = 2\n",
        "\n",
        "TN = 0\n",
        "FN = 0\n",
        "TP = 0\n",
        "FP = 0\n",
        "\n",
        "# Keep track of correct guesses in a confusion matrix\n",
        "confusion = torch.zeros(numclasses, numclasses)\n",
        "\n",
        "#normal_data = plot_data[0:len(test_dataset)]\n",
        "#anomalies_data = plot_data[len(test_dataset):len(test_dataset)+len(ANOMALIES_dataset)]\n",
        "\n",
        "for i in range(len(normal_data)):\n",
        "\n",
        "    if (normal_data[i,1] < threshold_fixed):\n",
        "        TN+=1\n",
        "    else:\n",
        "        FP+=1\n",
        "\n",
        "#print (TN)\n",
        "#print (FP)\n",
        "\n",
        "for i in range(len(anomalies_data)):\n",
        "\n",
        "    if (anomalies_data[i,1] > threshold_fixed):\n",
        "        TP+=1\n",
        "    else:\n",
        "        FN+=1\n",
        "\n",
        "#print (TP)\n",
        "#print (FN)\n",
        "\n",
        "confusion[0][0] = TN\n",
        "confusion[0][1] = FP\n",
        "confusion[1][0] = FN\n",
        "confusion[1][1] = TP\n",
        "\n",
        "# Set up plot\n",
        "fig = plt.figure()\n",
        "ax = fig.add_subplot(111)\n",
        "cax = ax.matshow(confusion.numpy())\n",
        "fig.colorbar(cax)\n",
        "\n",
        "# Set up axes\n",
        "ax.set_xticklabels([''] + listclasses, rotation=90)\n",
        "ax.set_yticklabels([''] + listclasses)\n",
        "\n",
        "# Force label at every tick\n",
        "ax.xaxis.set_major_locator(ticker.MultipleLocator(1))\n",
        "ax.yaxis.set_major_locator(ticker.MultipleLocator(1))\n",
        "\n",
        "print (confusion)\n",
        "print ('Test Acc: ', ((TN+TP)/(TN+FP+FN+TP))*100, '%')\n"
      ]
    }
  ],
  "metadata": {
    "kernelspec": {
      "display_name": "Python 3",
      "language": "python",
      "name": "python3"
    },
    "language_info": {
      "codemirror_mode": {
        "name": "ipython",
        "version": 3
      },
      "file_extension": ".py",
      "mimetype": "text/x-python",
      "name": "python",
      "nbconvert_exporter": "python",
      "pygments_lexer": "ipython3",
      "version": "3.10.6"
    },
    "vscode": {
      "interpreter": {
        "hash": "916dbcbb3f70747c44a77c7bcd40155683ae19c65e1c03b4aa3499c5328201f1"
      }
    },
    "colab": {
      "provenance": []
    },
    "accelerator": "GPU",
    "gpuClass": "standard"
  },
  "nbformat": 4,
  "nbformat_minor": 5
}