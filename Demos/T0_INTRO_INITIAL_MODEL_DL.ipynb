{
  "cells": [
    {
      "cell_type": "code",
      "execution_count": 2,
      "id": "f7aec6d1-80e8-4bc4-b6dd-66754a9f93a2",
      "metadata": {
        "colab": {
          "base_uri": "https://localhost:8080/"
        },
        "id": "f7aec6d1-80e8-4bc4-b6dd-66754a9f93a2",
        "outputId": "67358839-accc-494a-b409-4ee17c3282a8"
      },
      "outputs": [
        {
          "output_type": "stream",
          "name": "stdout",
          "text": [
            "Requirement already satisfied: torchsummaryX in /usr/local/lib/python3.10/dist-packages (1.3.0)\n",
            "Requirement already satisfied: torch in /usr/local/lib/python3.10/dist-packages (from torchsummaryX) (2.1.0+cu121)\n",
            "Requirement already satisfied: numpy in /usr/local/lib/python3.10/dist-packages (from torchsummaryX) (1.23.5)\n",
            "Requirement already satisfied: pandas in /usr/local/lib/python3.10/dist-packages (from torchsummaryX) (1.5.3)\n",
            "Requirement already satisfied: python-dateutil>=2.8.1 in /usr/local/lib/python3.10/dist-packages (from pandas->torchsummaryX) (2.8.2)\n",
            "Requirement already satisfied: pytz>=2020.1 in /usr/local/lib/python3.10/dist-packages (from pandas->torchsummaryX) (2023.3.post1)\n",
            "Requirement already satisfied: filelock in /usr/local/lib/python3.10/dist-packages (from torch->torchsummaryX) (3.13.1)\n",
            "Requirement already satisfied: typing-extensions in /usr/local/lib/python3.10/dist-packages (from torch->torchsummaryX) (4.5.0)\n",
            "Requirement already satisfied: sympy in /usr/local/lib/python3.10/dist-packages (from torch->torchsummaryX) (1.12)\n",
            "Requirement already satisfied: networkx in /usr/local/lib/python3.10/dist-packages (from torch->torchsummaryX) (3.2.1)\n",
            "Requirement already satisfied: jinja2 in /usr/local/lib/python3.10/dist-packages (from torch->torchsummaryX) (3.1.3)\n",
            "Requirement already satisfied: fsspec in /usr/local/lib/python3.10/dist-packages (from torch->torchsummaryX) (2023.6.0)\n",
            "Requirement already satisfied: triton==2.1.0 in /usr/local/lib/python3.10/dist-packages (from torch->torchsummaryX) (2.1.0)\n",
            "Requirement already satisfied: six>=1.5 in /usr/local/lib/python3.10/dist-packages (from python-dateutil>=2.8.1->pandas->torchsummaryX) (1.16.0)\n",
            "Requirement already satisfied: MarkupSafe>=2.0 in /usr/local/lib/python3.10/dist-packages (from jinja2->torch->torchsummaryX) (2.1.4)\n",
            "Requirement already satisfied: mpmath>=0.19 in /usr/local/lib/python3.10/dist-packages (from sympy->torch->torchsummaryX) (1.3.0)\n"
          ]
        }
      ],
      "source": [
        "# STEP 1: SETUP & IMPORTS\n",
        "\n",
        "!pip3 install torchsummaryX\n",
        "\n",
        "import torch\n",
        "import torch.nn as nn\n",
        "import torchvision.datasets as datasets\n",
        "import torchvision.transforms as transforms\n",
        "from torch.utils.data import DataLoader\n",
        "import torch.nn.functional as F\n"
      ]
    },
    {
      "cell_type": "code",
      "execution_count": 3,
      "id": "cda16343-4734-4f64-9d94-8603fc2ca21d",
      "metadata": {
        "colab": {
          "base_uri": "https://localhost:8080/"
        },
        "id": "cda16343-4734-4f64-9d94-8603fc2ca21d",
        "outputId": "02dd7eaa-8fcd-4373-bedb-be01e2bae7d8"
      },
      "outputs": [
        {
          "output_type": "stream",
          "name": "stdout",
          "text": [
            "Downloading http://yann.lecun.com/exdb/mnist/train-images-idx3-ubyte.gz\n",
            "Downloading http://yann.lecun.com/exdb/mnist/train-images-idx3-ubyte.gz to ./data/MNIST/raw/train-images-idx3-ubyte.gz\n"
          ]
        },
        {
          "output_type": "stream",
          "name": "stderr",
          "text": [
            "100%|██████████| 9912422/9912422 [00:00<00:00, 99734472.74it/s]\n"
          ]
        },
        {
          "output_type": "stream",
          "name": "stdout",
          "text": [
            "Extracting ./data/MNIST/raw/train-images-idx3-ubyte.gz to ./data/MNIST/raw\n",
            "\n",
            "Downloading http://yann.lecun.com/exdb/mnist/train-labels-idx1-ubyte.gz\n",
            "Downloading http://yann.lecun.com/exdb/mnist/train-labels-idx1-ubyte.gz to ./data/MNIST/raw/train-labels-idx1-ubyte.gz\n"
          ]
        },
        {
          "output_type": "stream",
          "name": "stderr",
          "text": [
            "100%|██████████| 28881/28881 [00:00<00:00, 108837101.37it/s]\n"
          ]
        },
        {
          "output_type": "stream",
          "name": "stdout",
          "text": [
            "Extracting ./data/MNIST/raw/train-labels-idx1-ubyte.gz to ./data/MNIST/raw\n",
            "\n",
            "Downloading http://yann.lecun.com/exdb/mnist/t10k-images-idx3-ubyte.gz\n",
            "Downloading http://yann.lecun.com/exdb/mnist/t10k-images-idx3-ubyte.gz to ./data/MNIST/raw/t10k-images-idx3-ubyte.gz\n"
          ]
        },
        {
          "output_type": "stream",
          "name": "stderr",
          "text": [
            "100%|██████████| 1648877/1648877 [00:00<00:00, 34394757.14it/s]\n"
          ]
        },
        {
          "output_type": "stream",
          "name": "stdout",
          "text": [
            "Extracting ./data/MNIST/raw/t10k-images-idx3-ubyte.gz to ./data/MNIST/raw\n",
            "\n",
            "Downloading http://yann.lecun.com/exdb/mnist/t10k-labels-idx1-ubyte.gz\n",
            "Downloading http://yann.lecun.com/exdb/mnist/t10k-labels-idx1-ubyte.gz to ./data/MNIST/raw/t10k-labels-idx1-ubyte.gz\n"
          ]
        },
        {
          "output_type": "stream",
          "name": "stderr",
          "text": [
            "100%|██████████| 4542/4542 [00:00<00:00, 3764182.72it/s]\n"
          ]
        },
        {
          "output_type": "stream",
          "name": "stdout",
          "text": [
            "Extracting ./data/MNIST/raw/t10k-labels-idx1-ubyte.gz to ./data/MNIST/raw\n",
            "\n"
          ]
        }
      ],
      "source": [
        "# STEP 2: LOAD DATASET\n",
        "# MNIST dataset\n",
        "\n",
        "train_dataset = datasets.MNIST(root='./data',\n",
        "                               train=True,\n",
        "                               transform=transforms.ToTensor(),\n",
        "                               download=True)\n",
        "\n",
        "test_dataset = datasets.MNIST(root='./data',\n",
        "                              train=False,\n",
        "                              transform=transforms.ToTensor())\n",
        "\n",
        "# Data loader\n",
        "train_loader = DataLoader(dataset=train_dataset,\n",
        "                          batch_size=64,\n",
        "                          shuffle=True)\n",
        "\n",
        "test_loader = DataLoader(dataset=test_dataset,\n",
        "                         batch_size=64,\n",
        "                         shuffle=False)\n"
      ]
    },
    {
      "cell_type": "code",
      "execution_count": 4,
      "id": "7298cab2-a41c-46bd-bf1f-776626ec5def",
      "metadata": {
        "colab": {
          "base_uri": "https://localhost:8080/",
          "height": 52
        },
        "id": "7298cab2-a41c-46bd-bf1f-776626ec5def",
        "outputId": "ee9006ca-1ad7-48ca-ba25-20cd649b154d"
      },
      "outputs": [
        {
          "output_type": "stream",
          "name": "stdout",
          "text": [
            "cuda:0\n"
          ]
        },
        {
          "output_type": "execute_result",
          "data": {
            "text/plain": [
              "'Tesla T4'"
            ],
            "application/vnd.google.colaboratory.intrinsic+json": {
              "type": "string"
            }
          },
          "metadata": {},
          "execution_count": 4
        }
      ],
      "source": [
        "# STEP 3: ACTIVATE DEVICE\n",
        "\n",
        "device = torch.device(\"cuda:0\" if torch.cuda.is_available() else \"cpu\")\n",
        "print(device)\n",
        "torch.cuda.get_device_name(0)\n"
      ]
    },
    {
      "cell_type": "code",
      "execution_count": 5,
      "id": "85cf958d-e1a2-45a5-be74-3b0d8c29dec1",
      "metadata": {
        "colab": {
          "base_uri": "https://localhost:8080/"
        },
        "id": "85cf958d-e1a2-45a5-be74-3b0d8c29dec1",
        "outputId": "bae4ff6f-ff0f-479d-c474-4cf09bff755d"
      },
      "outputs": [
        {
          "output_type": "stream",
          "name": "stdout",
          "text": [
            "NeuralNet(\n",
            "  (l1): Linear(in_features=784, out_features=500, bias=True)\n",
            "  (relu): ReLU()\n",
            "  (l2): Linear(in_features=500, out_features=10, bias=True)\n",
            ")\n"
          ]
        }
      ],
      "source": [
        "# STEP 4: DEFINE NEURAL NETWORK MODEL (option A - Fully connected Neural Network)\n",
        "# Fully connected neural network with one hidden layer\n",
        "\n",
        "class NeuralNet(nn.Module):\n",
        "    def __init__(self):\n",
        "        super(NeuralNet, self).__init__()\n",
        "        self.l1 = nn.Linear(784, 500)\n",
        "        self.relu = nn.ReLU()\n",
        "        self.l2 = nn.Linear(500, 10)\n",
        "\n",
        "    def forward(self, x):\n",
        "        out = self.l1(x)\n",
        "        out = self.relu(out)\n",
        "        out = self.l2(out)\n",
        "        # no activation and no softmax at the end\n",
        "        return out\n",
        "\n",
        "model = NeuralNet()\n",
        "model.to(device)\n",
        "\n",
        "print (model)"
      ]
    },
    {
      "cell_type": "code",
      "execution_count": 6,
      "id": "167b8f52-28ac-4190-a3db-71d0afb704d7",
      "metadata": {
        "colab": {
          "base_uri": "https://localhost:8080/"
        },
        "id": "167b8f52-28ac-4190-a3db-71d0afb704d7",
        "outputId": "b54994c7-1da9-4d81-9ba4-61f143c02cef"
      },
      "outputs": [
        {
          "output_type": "stream",
          "name": "stdout",
          "text": [
            "LeNet(\n",
            "  (conv1): Conv2d(1, 6, kernel_size=(5, 5), stride=(1, 1))\n",
            "  (pool): MaxPool2d(kernel_size=2, stride=2, padding=0, dilation=1, ceil_mode=False)\n",
            "  (conv2): Conv2d(6, 16, kernel_size=(5, 5), stride=(1, 1))\n",
            "  (fc1): Linear(in_features=256, out_features=120, bias=True)\n",
            "  (fc2): Linear(in_features=120, out_features=84, bias=True)\n",
            "  (fc3): Linear(in_features=84, out_features=10, bias=True)\n",
            ")\n"
          ]
        }
      ],
      "source": [
        "# STEP 4: DEFINE NEURAL NETWORK MODEL (option B - Convolutional Neural Network)\n",
        "# LeNET\n",
        "\n",
        "class LeNet(nn.Module):\n",
        "    def __init__(self):\n",
        "        super(LeNet, self).__init__()\n",
        "        self.conv1 = nn.Conv2d(1, 6, 5)\n",
        "        self.pool = nn.MaxPool2d(2, 2)\n",
        "        self.conv2 = nn.Conv2d(6, 16, 5)\n",
        "        self.fc1 = nn.Linear(16 * 4 * 4, 120)\n",
        "        self.fc2 = nn.Linear(120, 84)\n",
        "        self.fc3 = nn.Linear(84, 10)\n",
        "\n",
        "    def forward(self, x):\n",
        "        x = self.pool(F.relu(self.conv1(x)))\n",
        "        x = self.pool(F.relu(self.conv2(x)))\n",
        "        x = x.view(-1, 16 * 4 * 4)\n",
        "        x = F.relu(self.fc1(x))\n",
        "        x = F.relu(self.fc2(x))\n",
        "        x = self.fc3(x)\n",
        "        return x\n",
        "\n",
        "model = LeNet()\n",
        "model.to(device)\n",
        "\n",
        "print (model)"
      ]
    },
    {
      "cell_type": "code",
      "execution_count": 7,
      "id": "163ac81a-1d83-4f4b-a406-7c4f588fdf9d",
      "metadata": {
        "colab": {
          "base_uri": "https://localhost:8080/"
        },
        "id": "163ac81a-1d83-4f4b-a406-7c4f588fdf9d",
        "outputId": "7c90b038-6ad4-42b2-e489-47c4a680814b"
      },
      "outputs": [
        {
          "output_type": "stream",
          "name": "stdout",
          "text": [
            "# net parameters:  44426\n",
            "# net parameters:  44426\n",
            "==========================================================\n",
            "          Kernel Shape    Output Shape   Params Mult-Adds\n",
            "Layer                                                    \n",
            "0_conv1   [1, 6, 5, 5]  [1, 6, 24, 24]    156.0     86.4k\n",
            "1_pool               -  [1, 6, 12, 12]        -         -\n",
            "2_conv2  [6, 16, 5, 5]   [1, 16, 8, 8]   2.416k    153.6k\n",
            "3_pool               -   [1, 16, 4, 4]        -         -\n",
            "4_fc1       [256, 120]        [1, 120]   30.84k    30.72k\n",
            "5_fc2        [120, 84]         [1, 84]  10.164k    10.08k\n",
            "6_fc3         [84, 10]         [1, 10]    850.0     840.0\n",
            "----------------------------------------------------------\n",
            "                       Totals\n",
            "Total params          44.426k\n",
            "Trainable params      44.426k\n",
            "Non-trainable params      0.0\n",
            "Mult-Adds             281.64k\n",
            "==========================================================\n"
          ]
        },
        {
          "output_type": "stream",
          "name": "stderr",
          "text": [
            "/usr/local/lib/python3.10/dist-packages/torchsummaryX/torchsummaryX.py:101: FutureWarning: The default value of numeric_only in DataFrame.sum is deprecated. In a future version, it will default to False. In addition, specifying 'numeric_only=None' is deprecated. Select only valid columns or specify the value of numeric_only to silence this warning.\n",
            "  df_sum = df.sum()\n"
          ]
        }
      ],
      "source": [
        "# Optional: Show the number of parameters in the network\n",
        "\n",
        "def get_n_params(model):\n",
        "    pp=0\n",
        "    for p in list(model.parameters()):\n",
        "        nn=1\n",
        "        for s in list(p.size()):\n",
        "            nn = nn*s\n",
        "        pp += nn\n",
        "    return pp\n",
        "\n",
        "print (\"# net parameters: \", get_n_params(model))\n",
        "\n",
        "def count_parameters(model):\n",
        "    return sum(p.numel() for p in model.parameters() if p.requires_grad)\n",
        "\n",
        "print (\"# net parameters: \", count_parameters(model))\n",
        "\n",
        "\n",
        "from torchsummaryX import summary\n",
        "\n",
        "if isinstance(model, NeuralNet):\n",
        "    summary(model, torch.zeros((1, 28*28)).to(device))\n",
        "\n",
        "if isinstance(model, LeNet):\n",
        "    summary(model, torch.zeros((1, 1, 28, 28)).to(device))\n"
      ]
    },
    {
      "cell_type": "code",
      "execution_count": 8,
      "id": "8fd5cff8-648e-42e6-8dce-ed61d886f15d",
      "metadata": {
        "id": "8fd5cff8-648e-42e6-8dce-ed61d886f15d"
      },
      "outputs": [],
      "source": [
        "# STEP 5: DEFINE LOSS FUNCTION AND OPTIMIZATION METHOD\n",
        "\n",
        "criterion = nn.CrossEntropyLoss()\n",
        "optimizer = torch.optim.Adam(model.parameters(), lr=0.001)\n"
      ]
    },
    {
      "cell_type": "code",
      "execution_count": 9,
      "id": "f611b65a-421d-4655-9d20-4302bef2b928",
      "metadata": {
        "colab": {
          "base_uri": "https://localhost:8080/"
        },
        "id": "f611b65a-421d-4655-9d20-4302bef2b928",
        "outputId": "6892b3b7-306b-4fae-8032-5dbc75c1c012"
      },
      "outputs": [
        {
          "output_type": "stream",
          "name": "stdout",
          "text": [
            "Epoch [1/3], Step [100/938], Loss: 0.7190\n",
            "Epoch [1/3], Step [200/938], Loss: 0.2745\n",
            "Epoch [1/3], Step [300/938], Loss: 0.3774\n",
            "Epoch [1/3], Step [400/938], Loss: 0.1203\n",
            "Epoch [1/3], Step [500/938], Loss: 0.1014\n",
            "Epoch [1/3], Step [600/938], Loss: 0.2595\n",
            "Epoch [1/3], Step [700/938], Loss: 0.1863\n",
            "Epoch [1/3], Step [800/938], Loss: 0.0642\n",
            "Epoch [1/3], Step [900/938], Loss: 0.0909\n",
            "Epoch [2/3], Step [100/938], Loss: 0.1175\n",
            "Epoch [2/3], Step [200/938], Loss: 0.0492\n",
            "Epoch [2/3], Step [300/938], Loss: 0.0529\n",
            "Epoch [2/3], Step [400/938], Loss: 0.1376\n",
            "Epoch [2/3], Step [500/938], Loss: 0.1790\n",
            "Epoch [2/3], Step [600/938], Loss: 0.0549\n",
            "Epoch [2/3], Step [700/938], Loss: 0.0995\n",
            "Epoch [2/3], Step [800/938], Loss: 0.0936\n",
            "Epoch [2/3], Step [900/938], Loss: 0.0847\n",
            "Epoch [3/3], Step [100/938], Loss: 0.0506\n",
            "Epoch [3/3], Step [200/938], Loss: 0.0797\n",
            "Epoch [3/3], Step [300/938], Loss: 0.0230\n",
            "Epoch [3/3], Step [400/938], Loss: 0.0528\n",
            "Epoch [3/3], Step [500/938], Loss: 0.0907\n",
            "Epoch [3/3], Step [600/938], Loss: 0.0823\n",
            "Epoch [3/3], Step [700/938], Loss: 0.1573\n",
            "Epoch [3/3], Step [800/938], Loss: 0.0908\n",
            "Epoch [3/3], Step [900/938], Loss: 0.0611\n"
          ]
        }
      ],
      "source": [
        "# STEP 6: TRAIN THE MODEL\n",
        "\n",
        "n_total_steps = len(train_loader)\n",
        "num_epochs = 3\n",
        "\n",
        "for epoch in range(num_epochs):\n",
        "    for i, (images, labels) in enumerate(train_loader):\n",
        "        # images from dataset: [64, 1, 28, 28]\n",
        "        # labels from dataset: [64]\n",
        "        #print (images.size())\n",
        "        #print (labels.size())\n",
        "\n",
        "        if isinstance(model, NeuralNet):\n",
        "            images = images.reshape(-1, 28*28)\n",
        "\n",
        "        # resized: [64, 784]\n",
        "        #print (images.size())\n",
        "\n",
        "        images, labels = images.to(device), labels.to(device)\n",
        "\n",
        "        # Forward pass\n",
        "        outputs = model(images)\n",
        "        # outputs: [64, 10]\n",
        "        #print (outputs.size())\n",
        "        loss = criterion(outputs, labels)\n",
        "\n",
        "        # Show kernels\n",
        "        \"\"\"\n",
        "        if isinstance(model, LeNet):\n",
        "            print (model.conv1.weight.size())\n",
        "            print (model.conv1.weight)\n",
        "        \"\"\"\n",
        "        # Backward and optimize\n",
        "        optimizer.zero_grad()\n",
        "        loss.backward()\n",
        "        optimizer.step()\n",
        "\n",
        "        if (i+1) % 100 == 0:\n",
        "            print (f'Epoch [{epoch+1}/{num_epochs}], Step [{i+1}/{n_total_steps}], Loss: {loss.item():.4f}')\n"
      ]
    },
    {
      "cell_type": "code",
      "execution_count": 10,
      "id": "5e41e7f1-0b48-44e5-af6a-67196a888a0d",
      "metadata": {
        "colab": {
          "base_uri": "https://localhost:8080/"
        },
        "id": "5e41e7f1-0b48-44e5-af6a-67196a888a0d",
        "outputId": "48663163-97c1-4348-da7b-8a0dd97c475f"
      },
      "outputs": [
        {
          "output_type": "stream",
          "name": "stdout",
          "text": [
            "Accuracy of the network on the 10000 test images: 98.57 %\n"
          ]
        }
      ],
      "source": [
        "# STEP 7: TEST THE MODEL\n",
        "\n",
        "with torch.no_grad():\n",
        "    n_correct = 0\n",
        "    n_samples = 0\n",
        "    for images, labels in test_loader:\n",
        "\n",
        "        if isinstance(model, NeuralNet):\n",
        "            images = images.reshape(-1, 28*28)\n",
        "\n",
        "        images, labels = images.to(device), labels.to(device)\n",
        "\n",
        "        outputs = model(images)\n",
        "\n",
        "        _, predicted = torch.max(outputs.data, 1)\n",
        "        n_samples += labels.size(0)\n",
        "        n_correct += (predicted == labels).sum().item()\n",
        "\n",
        "    acc = 100.0 * n_correct / n_samples\n",
        "    print(f'Accuracy of the network on the 10000 test images: {acc} %')"
      ]
    }
  ],
  "metadata": {
    "kernelspec": {
      "display_name": "Python 3",
      "name": "python3"
    },
    "language_info": {
      "codemirror_mode": {
        "name": "ipython",
        "version": 3
      },
      "file_extension": ".py",
      "mimetype": "text/x-python",
      "name": "python",
      "nbconvert_exporter": "python",
      "pygments_lexer": "ipython3",
      "version": "3.10.6"
    },
    "colab": {
      "provenance": [],
      "gpuType": "T4"
    },
    "accelerator": "GPU"
  },
  "nbformat": 4,
  "nbformat_minor": 5
}